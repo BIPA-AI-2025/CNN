{
 "cells": [
  {
   "cell_type": "code",
   "execution_count": 1,
   "id": "f3477e82",
   "metadata": {},
   "outputs": [],
   "source": [
    "import torch\n",
    "import torch.nn as nn"
   ]
  },
  {
   "cell_type": "code",
   "execution_count": 1,
   "id": "382f581b",
   "metadata": {},
   "outputs": [
    {
     "name": "stdout",
     "output_type": "stream",
     "text": [
      "CUDA 사용 가능 여부: True\n",
      "사용 가능한 GPU 수: 1\n",
      "현재 사용 중인 GPU: NVIDIA GeForce GTX 1080\n"
     ]
    }
   ],
   "source": [
    "import torch\n",
    "\n",
    "# GPU 사용 가능한지 확인\n",
    "print(\"CUDA 사용 가능 여부:\", torch.cuda.is_available())\n",
    "\n",
    "# 사용 가능한 GPU 수\n",
    "print(\"사용 가능한 GPU 수:\", torch.cuda.device_count())\n",
    "\n",
    "# 현재 선택된 GPU\n",
    "if torch.cuda.is_available():\n",
    "    print(\"현재 사용 중인 GPU:\", torch.cuda.get_device_name(torch.cuda.current_device()))"
   ]
  },
  {
   "cell_type": "code",
   "execution_count": 3,
   "id": "a97fd6e7",
   "metadata": {},
   "outputs": [
    {
     "name": "stdout",
     "output_type": "stream",
     "text": [
      "텐서의 크기 : torch.Size([1, 1, 28, 28])\n"
     ]
    }
   ],
   "source": [
    "# 배치 크기 × 채널 × 높이(height) × 너비(widht)의 크기의 텐서를 선언\n",
    "inputs = torch.Tensor(1, 1, 28, 28)\n",
    "print(f'텐서의 크기 : {inputs.shape}')"
   ]
  },
  {
   "cell_type": "markdown",
   "id": "5abf0be8",
   "metadata": {},
   "source": [
    "- stride는 default로 stride=(1, 1)"
   ]
  },
  {
   "cell_type": "code",
   "execution_count": null,
   "id": "d37ca728",
   "metadata": {},
   "outputs": [
    {
     "name": "stdout",
     "output_type": "stream",
     "text": [
      "Conv2d(1, 32, kernel_size=(3, 3), stride=(1, 1), padding=(1, 1))\n"
     ]
    }
   ],
   "source": [
    "# 첫번째 Conv2D\n",
    "conv1 = nn.Conv2d(1, 32, 3, padding=1)\n",
    "print(conv1)"
   ]
  },
  {
   "cell_type": "code",
   "execution_count": 8,
   "id": "6e6adf1c",
   "metadata": {},
   "outputs": [
    {
     "name": "stdout",
     "output_type": "stream",
     "text": [
      "Conv2d(32, 64, kernel_size=(3, 3), stride=(1, 1), padding=(1, 1))\n"
     ]
    }
   ],
   "source": [
    "# 두번째 Conv2D\n",
    "conv2 = nn.Conv2d(32, 64, kernel_size=3, padding=1)\n",
    "print(conv2)"
   ]
  },
  {
   "cell_type": "markdown",
   "id": "fb2463d3",
   "metadata": {},
   "source": [
    "ceil_mode\n",
    "\n",
    "- 입력 크기 7x7, kernel_size=2, stride=2라면:\n",
    "\n",
    "- ceil_mode=False → 출력: 3x3 (7/2 = 3.5 → floor → 3)\n",
    "\n",
    "- ceil_mode=True → 출력: 4x4 (7/2 = 3.5 → ceil → 4)"
   ]
  },
  {
   "cell_type": "code",
   "execution_count": 9,
   "id": "8ada9c10",
   "metadata": {},
   "outputs": [
    {
     "name": "stdout",
     "output_type": "stream",
     "text": [
      "MaxPool2d(kernel_size=2, stride=2, padding=0, dilation=1, ceil_mode=False)\n"
     ]
    }
   ],
   "source": [
    "# 맥스 풀링\n",
    "pool = nn.MaxPool2d(2)\n",
    "print(pool)"
   ]
  },
  {
   "cell_type": "code",
   "execution_count": 10,
   "id": "5ecdc54d",
   "metadata": {},
   "outputs": [
    {
     "name": "stdout",
     "output_type": "stream",
     "text": [
      "torch.Size([1, 32, 28, 28])\n"
     ]
    }
   ],
   "source": [
    "# 연결하여 모델 만들기\n",
    "out = conv1(inputs)\n",
    "print(out.shape)"
   ]
  },
  {
   "cell_type": "code",
   "execution_count": 11,
   "id": "aa854a91",
   "metadata": {},
   "outputs": [
    {
     "name": "stdout",
     "output_type": "stream",
     "text": [
      "torch.Size([1, 32, 14, 14])\n"
     ]
    }
   ],
   "source": [
    "out = pool(out)\n",
    "print(out.shape)"
   ]
  },
  {
   "cell_type": "code",
   "execution_count": 12,
   "id": "8126c9bd",
   "metadata": {},
   "outputs": [
    {
     "name": "stdout",
     "output_type": "stream",
     "text": [
      "torch.Size([1, 64, 14, 14])\n"
     ]
    }
   ],
   "source": [
    "# 두번째 Conv2D 통과\n",
    "out = conv2(out)\n",
    "print(out.shape)\n"
   ]
  },
  {
   "cell_type": "code",
   "execution_count": 13,
   "id": "7fbefae7",
   "metadata": {},
   "outputs": [
    {
     "name": "stdout",
     "output_type": "stream",
     "text": [
      "torch.Size([1, 64, 7, 7])\n"
     ]
    }
   ],
   "source": [
    "out = pool(out)\n",
    "print(out.shape)"
   ]
  },
  {
   "cell_type": "code",
   "execution_count": 17,
   "id": "8f33cbec",
   "metadata": {},
   "outputs": [
    {
     "data": {
      "text/plain": [
       "(1, 64, 7, 7)"
      ]
     },
     "execution_count": 17,
     "metadata": {},
     "output_type": "execute_result"
    }
   ],
   "source": [
    "out.size(0), out.size(1), out.size(2), out.size(3)"
   ]
  },
  {
   "cell_type": "code",
   "execution_count": 18,
   "id": "1a113c5d",
   "metadata": {},
   "outputs": [
    {
     "name": "stdout",
     "output_type": "stream",
     "text": [
      "torch.Size([1, 3136])\n"
     ]
    }
   ],
   "source": [
    "# 첫번째 차원인 배치 차원은 그대로 두고 나머지는 펼쳐라\n",
    "out = out.view(out.size(0), -1) \n",
    "print(out.shape)"
   ]
  },
  {
   "cell_type": "code",
   "execution_count": 19,
   "id": "2f8addd1",
   "metadata": {},
   "outputs": [
    {
     "name": "stdout",
     "output_type": "stream",
     "text": [
      "torch.Size([1, 10])\n"
     ]
    }
   ],
   "source": [
    "fc = nn.Linear(3136, 10) # input_dim = 3,136, output_dim = 10\n",
    "out = fc(out)\n",
    "print(out.shape)"
   ]
  },
  {
   "cell_type": "markdown",
   "id": "b755cd29",
   "metadata": {},
   "source": [
    "CNN으로 MNIST 분류하기"
   ]
  },
  {
   "cell_type": "code",
   "execution_count": 1,
   "id": "47736cb1",
   "metadata": {},
   "outputs": [],
   "source": [
    "import torch\n",
    "import torchvision.datasets as datasets\n",
    "import torchvision.transforms as transforms"
   ]
  },
  {
   "cell_type": "code",
   "execution_count": 2,
   "id": "483c07f1",
   "metadata": {},
   "outputs": [],
   "source": [
    "device = 'cuda' if torch.cuda.is_available() else 'cpu'\n",
    "\n",
    "# 랜덤 시드 고정\n",
    "torch.manual_seed(777)\n",
    "\n",
    "# GPU 사용 가능일 경우 랜덤 시드 고정\n",
    "if device == 'cuda':\n",
    "    torch.cuda.manual_seed_all(777)"
   ]
  },
  {
   "cell_type": "code",
   "execution_count": 76,
   "id": "4a182b76",
   "metadata": {},
   "outputs": [],
   "source": [
    "learning_rate = 0.001\n",
    "training_epochs = 15\n",
    "batch_size = 32"
   ]
  },
  {
   "cell_type": "code",
   "execution_count": null,
   "id": "af0d5601",
   "metadata": {},
   "outputs": [],
   "source": [
    "mnist_train = datasets.MNIST(root='MNIST_data_aug/', # 다운로드 경로 지정\n",
    "                            train=True, # True를 지정하면 훈련 데이터로 다운로드\n",
    "                            download=True,\n",
    "                            transform=transforms.Compose([\n",
    "                                transforms.RandomRotation(10),              # -10° ~ +10° 회전\n",
    "                                transforms.RandomAffine(0, translate=(0.1,0.1)),  # 10% 이내 평행 이동\n",
    "                                transforms.ToTensor(), # 텐서로 변환\n",
    "                                transforms.Normalize((0.1307,), (0.3081,))   # transforms.Normalize((0.5,), (0.5,))\n",
    "                            ]))\n",
    "\n",
    "mnist_test = datasets.MNIST(root='MNIST_data_aug/', # 다운로드 경로 지정\n",
    "                            train=False, # False를 지정하면 테스트 데이터로 다운로드\n",
    "                            download=True,\n",
    "                            transform=transforms.Compose([\n",
    "                                transforms.ToTensor(), # 텐서로 변환\n",
    "                                transforms.Normalize((0.1307,), (0.3081,))\n",
    "                            ]))"
   ]
  },
  {
   "cell_type": "code",
   "execution_count": 78,
   "id": "fdc99e91",
   "metadata": {},
   "outputs": [
    {
     "data": {
      "text/plain": [
       "(Dataset MNIST\n",
       "     Number of datapoints: 60000\n",
       "     Root location: MNIST_data_aug/\n",
       "     Split: Train\n",
       "     StandardTransform\n",
       " Transform: Compose(\n",
       "                RandomRotation(degrees=[-10.0, 10.0], interpolation=nearest, expand=False, fill=0)\n",
       "                RandomAffine(degrees=[0.0, 0.0], translate=(0.1, 0.1))\n",
       "                ToTensor()\n",
       "                Normalize(mean=(0.1307,), std=(0.3081,))\n",
       "            ),\n",
       " Dataset MNIST\n",
       "     Number of datapoints: 10000\n",
       "     Root location: MNIST_data_aug/\n",
       "     Split: Test\n",
       "     StandardTransform\n",
       " Transform: Compose(\n",
       "                ToTensor()\n",
       "                Normalize(mean=(0.1307,), std=(0.3081,))\n",
       "            ))"
      ]
     },
     "execution_count": 78,
     "metadata": {},
     "output_type": "execute_result"
    }
   ],
   "source": [
    "mnist_train, mnist_test"
   ]
  },
  {
   "cell_type": "code",
   "execution_count": 79,
   "id": "b87f3887",
   "metadata": {},
   "outputs": [],
   "source": [
    "train_loader = torch.utils.data.DataLoader(dataset=mnist_train,\n",
    "                                          batch_size=batch_size,\n",
    "                                          shuffle=True,\n",
    "                                          drop_last=True)\n",
    "\n",
    "valid_loader = torch.utils.data.DataLoader(dataset=mnist_test,\n",
    "                                          batch_size=batch_size,\n",
    "                                          shuffle=False,\n",
    "                                          drop_last=False)\n"
   ]
  },
  {
   "cell_type": "code",
   "execution_count": 87,
   "id": "00251865",
   "metadata": {},
   "outputs": [],
   "source": [
    "class CNN(torch.nn.Module):\n",
    "\n",
    "    def __init__(self):\n",
    "        super(CNN, self).__init__()\n",
    "        # 첫번째층\n",
    "        # ImgIn shape=(?, 28, 28, 1)\n",
    "        #    Conv     -> (?, 28, 28, 32)\n",
    "        #    Pool     -> (?, 14, 14, 32)\n",
    "        self.layer1 = torch.nn.Sequential(\n",
    "            torch.nn.Conv2d(1, 32, kernel_size=3, stride=1, padding=1),\n",
    "            torch.nn.BatchNorm2d(32),\n",
    "            torch.nn.ReLU(),\n",
    "            torch.nn.MaxPool2d(kernel_size=2, stride=2),\n",
    "            torch.nn.Dropout2d(0.1)        # ← Sequential 안에 포함\n",
    "        )\n",
    "       \n",
    "\n",
    "        # 두번째층\n",
    "        # ImgIn shape=(?, 14, 14, 32)\n",
    "        #    Conv      ->(?, 14, 14, 64)\n",
    "        #    Pool      ->(?, 7, 7, 64)\n",
    "        # Conv → ReLU → Pool → Dropout\n",
    "        self.layer2 = torch.nn.Sequential(\n",
    "            torch.nn.Conv2d(32, 64, kernel_size=3, stride=1, padding=1),\n",
    "            torch.nn.BatchNorm2d(64),\n",
    "            torch.nn.ReLU(),\n",
    "            torch.nn.MaxPool2d(kernel_size=2, stride=2),\n",
    "            torch.nn.Dropout2d(0.1)\n",
    "        )\n",
    "        \n",
    "        # 완전연결 직전 드롭아웃\n",
    "        self.dropout = torch.nn.Dropout(0.5)\n",
    "\n",
    "        # 전결합층 7x7x64 inputs -> 10 outputs\n",
    "        self.fc = torch.nn.Linear(7 * 7 * 64, 10, bias=True)\n",
    "        \n",
    "        # 군등분포, 완전연결층(Linear)의 입력·출력 수를 고려해 적절한 스케일로 가중치가 분포하게 됨. 학습 초기에 네트워크가 안정적으로 수렴하도록 돕습니다.\n",
    "        # 단순·얕은 네트워크에선 생략해도 크게 문제되지 않지만, 관되고 빠른 수렴을 원하거나, 깊은 모델을 다룰 땐 반드시 Xavier(또는 He) 초기화를 적용하는 것이 좋습니다.\n",
    "        \n",
    "        torch.nn.init.xavier_uniform_(self.fc.weight)\n",
    "\n",
    "    def forward(self, x):\n",
    "        out = self.layer1(x)\n",
    "        out = self.layer2(out)\n",
    "        out = out.view(out.size(0), -1)   # 전결합층을 위해서 Flatten\n",
    "        out = self.dropout(out)           # ← 여기에 Dropout 적용\n",
    "        out = self.fc(out)\n",
    "        return out"
   ]
  },
  {
   "cell_type": "code",
   "execution_count": 88,
   "id": "2aa6e3b0",
   "metadata": {},
   "outputs": [],
   "source": [
    "# CNN 모델 정의\n",
    "model = CNN().to(device)"
   ]
  },
  {
   "cell_type": "code",
   "execution_count": null,
   "id": "61132b53",
   "metadata": {},
   "outputs": [],
   "source": [
    "criterion = torch.nn.CrossEntropyLoss().to(device)    # 비용 함수에 소프트맥스 함수 포함되어져 있음.\n",
    "# optimizer = torch.optim.Adam(model.parameters(), lr=learning_rate)\n",
    "\n",
    "# L2 Regularization / Weight Decay\n",
    "# 학습률로 전역 스텝 크기를 제어하면서, weight decay로 모델 복잡도를 억제하여, 과적합을 줄이고, 수렴 속도와 안정성을 함께 얻을 수 있음\n",
    "optimizer = torch.optim.Adam(\n",
    "    model.parameters(),\n",
    "    lr=learning_rate,\n",
    "    weight_decay=1e-4   # 보통 1e-3 ~ 1e-5 사이 값 사용\n",
    ")"
   ]
  },
  {
   "cell_type": "code",
   "execution_count": null,
   "id": "252147ef",
   "metadata": {},
   "outputs": [],
   "source": []
  },
  {
   "cell_type": "code",
   "execution_count": 90,
   "id": "382a276a",
   "metadata": {},
   "outputs": [
    {
     "name": "stdout",
     "output_type": "stream",
     "text": [
      "총 배치의 수 : 1875, 313\n"
     ]
    }
   ],
   "source": [
    "total_train_batch = len(train_loader)\n",
    "total_test_batch = len(valid_loader)\n",
    "print(f'총 배치의 수 : {total_train_batch}, {total_test_batch}')"
   ]
  },
  {
   "cell_type": "code",
   "execution_count": 91,
   "id": "a48de0d6",
   "metadata": {},
   "outputs": [
    {
     "data": {
      "text/plain": [
       "(1875, 60000)"
      ]
     },
     "execution_count": 91,
     "metadata": {},
     "output_type": "execute_result"
    }
   ],
   "source": [
    "len(train_loader), len(train_loader.dataset)"
   ]
  },
  {
   "cell_type": "code",
   "execution_count": 92,
   "id": "a1109a29",
   "metadata": {},
   "outputs": [
    {
     "name": "stderr",
     "output_type": "stream",
     "text": [
      "Epoch 0: 100%|██████████| 1875/1875 [00:34<00:00, 55.07 batch/s]\n"
     ]
    },
    {
     "name": "stdout",
     "output_type": "stream",
     "text": [
      "[0/10] Batch 1874 Training Loss: 0.495 Valid Loss: 0.062  Training Accuracy: 84.350%  Valid Accuracy: 98.090% \n",
      "\n"
     ]
    },
    {
     "name": "stderr",
     "output_type": "stream",
     "text": [
      "Epoch 1: 100%|██████████| 1875/1875 [00:33<00:00, 56.67 batch/s]\n"
     ]
    },
    {
     "name": "stdout",
     "output_type": "stream",
     "text": [
      "[1/10] Batch 1874 Training Loss: 0.220 Valid Loss: 0.049  Training Accuracy: 93.115%  Valid Accuracy: 98.570% \n",
      "\n"
     ]
    },
    {
     "name": "stderr",
     "output_type": "stream",
     "text": [
      "Epoch 2: 100%|██████████| 1875/1875 [00:33<00:00, 55.36 batch/s]\n"
     ]
    },
    {
     "name": "stdout",
     "output_type": "stream",
     "text": [
      "[2/10] Batch 1874 Training Loss: 0.177 Valid Loss: 0.039  Training Accuracy: 94.480%  Valid Accuracy: 98.750% \n",
      "\n"
     ]
    },
    {
     "name": "stderr",
     "output_type": "stream",
     "text": [
      "Epoch 3: 100%|██████████| 1875/1875 [00:33<00:00, 56.68 batch/s]\n"
     ]
    },
    {
     "name": "stdout",
     "output_type": "stream",
     "text": [
      "[3/10] Batch 1874 Training Loss: 0.161 Valid Loss: 0.039  Training Accuracy: 95.123%  Valid Accuracy: 98.750% \n",
      "\n"
     ]
    },
    {
     "name": "stderr",
     "output_type": "stream",
     "text": [
      "Epoch 4: 100%|██████████| 1875/1875 [00:33<00:00, 56.39 batch/s]\n"
     ]
    },
    {
     "name": "stdout",
     "output_type": "stream",
     "text": [
      "[4/10] Batch 1874 Training Loss: 0.141 Valid Loss: 0.034  Training Accuracy: 95.578%  Valid Accuracy: 98.990% \n",
      "\n"
     ]
    },
    {
     "name": "stderr",
     "output_type": "stream",
     "text": [
      "Epoch 5: 100%|██████████| 1875/1875 [00:33<00:00, 55.87 batch/s]\n"
     ]
    },
    {
     "name": "stdout",
     "output_type": "stream",
     "text": [
      "[5/10] Batch 1874 Training Loss: 0.130 Valid Loss: 0.030  Training Accuracy: 95.908%  Valid Accuracy: 99.110% \n",
      "\n"
     ]
    },
    {
     "name": "stderr",
     "output_type": "stream",
     "text": [
      "Epoch 6: 100%|██████████| 1875/1875 [00:33<00:00, 56.16 batch/s]\n"
     ]
    },
    {
     "name": "stdout",
     "output_type": "stream",
     "text": [
      "[6/10] Batch 1874 Training Loss: 0.126 Valid Loss: 0.029  Training Accuracy: 96.118%  Valid Accuracy: 99.200% \n",
      "\n"
     ]
    },
    {
     "name": "stderr",
     "output_type": "stream",
     "text": [
      "Epoch 7: 100%|██████████| 1875/1875 [00:35<00:00, 53.25 batch/s]\n"
     ]
    },
    {
     "name": "stdout",
     "output_type": "stream",
     "text": [
      "[7/10] Batch 1874 Training Loss: 0.117 Valid Loss: 0.029  Training Accuracy: 96.448%  Valid Accuracy: 99.070% \n",
      "\n"
     ]
    },
    {
     "name": "stderr",
     "output_type": "stream",
     "text": [
      "Epoch 8: 100%|██████████| 1875/1875 [00:33<00:00, 56.26 batch/s]\n"
     ]
    },
    {
     "name": "stdout",
     "output_type": "stream",
     "text": [
      "[8/10] Batch 1874 Training Loss: 0.115 Valid Loss: 0.026  Training Accuracy: 96.413%  Valid Accuracy: 99.150% \n",
      "\n"
     ]
    },
    {
     "name": "stderr",
     "output_type": "stream",
     "text": [
      "Epoch 9: 100%|██████████| 1875/1875 [00:33<00:00, 55.52 batch/s]\n"
     ]
    },
    {
     "name": "stdout",
     "output_type": "stream",
     "text": [
      "[9/10] Batch 1874 Training Loss: 0.113 Valid Loss: 0.029  Training Accuracy: 96.438%  Valid Accuracy: 99.190% \n",
      "\n"
     ]
    }
   ],
   "source": [
    "from tqdm import tqdm\n",
    "\n",
    "train_losses, valid_losses = [], []\n",
    "train_accs, valid_accs = [], []\n",
    "\n",
    "num_epochs = 10\n",
    "for epoch in range(num_epochs):  # Loop for num epochs\n",
    "    model.train()  # Set the model to training mode\n",
    "    total_train_loss, total_valid_loss = 0.0, 0.0\n",
    "    total_train_correct, total_valid_correct = 0.0, 0.0\n",
    "    \n",
    "    for batch_idx, (data, target) in enumerate(tqdm(train_loader, desc=f\"Epoch {epoch}\", unit=\" batch\")):  # Iterate over batches of data\n",
    "        data, target = data.to(device), target.to(device)\n",
    "        \n",
    "        optimizer.zero_grad()  # Clear gradients from the previous iteration\n",
    "        output = model(data)  # Forward pass through the model\n",
    "        loss = criterion(output, target)  # Calculate the loss\n",
    "        loss.backward()  # Compute gradients (backpropagation)\n",
    "        optimizer.step()  # Update model parameters\n",
    "        \n",
    "        total_train_loss += loss.item() * data.size(0)  # Accumulate test loss\n",
    "        \n",
    "        pred = output.argmax(dim=1, keepdim=True)  # Get predicted class\n",
    "        total_train_correct += pred.eq(target.view_as(pred)).sum().item()  # Update correct predictions \n",
    "        # print('train_correct', train_correct)\n",
    "        \n",
    "    model.eval()  # Set the model to evaluation mode\n",
    "    total_valid_loss = 0\n",
    "    total_valid_correct = 0\n",
    "    with torch.no_grad():  # Disable gradient calculations for efficiency\n",
    "        for data, target in valid_loader:  # Iterate over test data\n",
    "            data, target = data.to(device), target.to(device)\n",
    "            output = model(data)\n",
    "            \n",
    "            total_valid_loss += criterion(output, target).item() * data.size(0) # Accumulate test loss\n",
    "            pred = output.argmax(dim=1, keepdim=True)  # Get predicted class\n",
    "            total_valid_correct += pred.eq(target.view_as(pred)).sum().item()  # Update correct predictions\n",
    "    \n",
    "    # calculate average loss over an epoch\n",
    "    train_loss = total_train_loss/len(train_loader.dataset)\n",
    "    valid_loss = total_valid_loss/len(valid_loader.dataset)\n",
    "    train_correct = total_train_correct/len(train_loader.dataset)\n",
    "    valid_correct = total_valid_correct/len(valid_loader.dataset)\n",
    "    \n",
    "    train_losses.append(train_loss)\n",
    "    valid_losses.append(valid_loss)\n",
    "    train_accs.append(train_correct)\n",
    "    valid_accs.append(valid_correct)\n",
    "    \n",
    "    # tqdm 상태창에 추가 정보 표시\n",
    "    tqdm.write(f\"[{epoch}/{num_epochs}] Batch {batch_idx} Training Loss: {train_loss:.3f} Valid Loss: {valid_loss:.3f}  Training Accuracy: {100. * train_correct:.3f}% \\\n",
    " Valid Accuracy: {100. * valid_correct:.3f}% \\n\")\n",
    "    "
   ]
  },
  {
   "cell_type": "code",
   "execution_count": 101,
   "id": "9e0f5c55",
   "metadata": {},
   "outputs": [
    {
     "data": {
      "text/plain": [
       "[0.11528463509061233,\n",
       " 0.04372670180717281,\n",
       " 0.03056907778675321,\n",
       " 0.02306502896132319,\n",
       " 0.017527709531443832,\n",
       " 0.014129334224187601,\n",
       " 0.011429801792606354,\n",
       " 0.009327251552569086,\n",
       " 0.00805066347954928,\n",
       " 0.0072853475135329915]"
      ]
     },
     "execution_count": 101,
     "metadata": {},
     "output_type": "execute_result"
    }
   ],
   "source": [
    "train_losses"
   ]
  },
  {
   "cell_type": "code",
   "execution_count": 102,
   "id": "747bf330",
   "metadata": {},
   "outputs": [
    {
     "data": {
      "text/plain": [
       "[0.04859343039018859,\n",
       " 0.03343899858261909,\n",
       " 0.02600381782552995,\n",
       " 0.026266007762165346,\n",
       " 0.03232843687633144,\n",
       " 0.027044677751293243,\n",
       " 0.03403401670857899,\n",
       " 0.03827963621091365,\n",
       " 0.03864655192149169,\n",
       " 0.03934948537573797]"
      ]
     },
     "execution_count": 102,
     "metadata": {},
     "output_type": "execute_result"
    }
   ],
   "source": [
    "valid_losses"
   ]
  },
  {
   "cell_type": "code",
   "execution_count": null,
   "id": "72696c68",
   "metadata": {},
   "outputs": [
    {
     "name": "stdout",
     "output_type": "stream",
     "text": [
      "Epoch: 0  Train Loss: 0.117  Valid Loss: 0.043  Train Acc: 96.432%  Valid Acc: 98.590%\n",
      "Epoch: 1  Train Loss: 0.043  Valid Loss: 0.036  Train Acc: 98.643%  Valid Acc: 98.800%\n",
      "Epoch: 2  Train Loss: 0.032  Valid Loss: 0.037  Train Acc: 98.972%  Valid Acc: 98.800%\n",
      "Epoch: 3  Train Loss: 0.023  Valid Loss: 0.039  Train Acc: 99.307%  Valid Acc: 98.750%\n",
      "Epoch: 4  Train Loss: 0.018  Valid Loss: 0.042  Train Acc: 99.432%  Valid Acc: 98.690%\n",
      "Epoch: 5  Train Loss: 0.014  Valid Loss: 0.036  Train Acc: 99.533%  Valid Acc: 98.910%\n",
      "Epoch: 6  Train Loss: 0.012  Valid Loss: 0.036  Train Acc: 99.627%  Valid Acc: 99.080%\n",
      "Epoch: 7  Train Loss: 0.011  Valid Loss: 0.035  Train Acc: 99.652%  Valid Acc: 99.050%\n",
      "Epoch: 8  Train Loss: 0.008  Valid Loss: 0.036  Train Acc: 99.740%  Valid Acc: 99.140%\n",
      "Epoch: 9  Train Loss: 0.008  Valid Loss: 0.042  Train Acc: 99.730%  Valid Acc: 99.100%\n",
      "Epoch: 10  Train Loss: 0.006  Valid Loss: 0.045  Train Acc: 99.785%  Valid Acc: 99.090%\n",
      "Epoch: 11  Train Loss: 0.006  Valid Loss: 0.049  Train Acc: 99.772%  Valid Acc: 99.000%\n",
      "Epoch: 12  Train Loss: 0.005  Valid Loss: 0.051  Train Acc: 99.822%  Valid Acc: 99.050%\n",
      "Epoch: 13  Train Loss: 0.005  Valid Loss: 0.053  Train Acc: 99.840%  Valid Acc: 98.990%\n",
      "Epoch: 14  Train Loss: 0.005  Valid Loss: 0.055  Train Acc: 99.820%  Valid Acc: 99.000%\n",
      "Epoch: 15  Train Loss: 0.004  Valid Loss: 0.068  Train Acc: 99.878%  Valid Acc: 98.870%\n",
      "Epoch: 16  Train Loss: 0.005  Valid Loss: 0.054  Train Acc: 99.825%  Valid Acc: 99.070%\n",
      "Epoch: 17  Train Loss: 0.004  Valid Loss: 0.053  Train Acc: 99.847%  Valid Acc: 99.030%\n",
      "Epoch: 18  Train Loss: 0.004  Valid Loss: 0.069  Train Acc: 99.893%  Valid Acc: 98.950%\n",
      "Epoch: 19  Train Loss: 0.004  Valid Loss: 0.070  Train Acc: 99.882%  Valid Acc: 98.870%\n",
      "Epoch: 20  Train Loss: 0.004  Valid Loss: 0.056  Train Acc: 99.885%  Valid Acc: 99.080%\n",
      "Epoch: 21  Train Loss: 0.003  Valid Loss: 0.059  Train Acc: 99.900%  Valid Acc: 99.120%\n",
      "Epoch: 22  Train Loss: 0.003  Valid Loss: 0.080  Train Acc: 99.898%  Valid Acc: 99.010%\n",
      "Epoch: 23  Train Loss: 0.003  Valid Loss: 0.084  Train Acc: 99.897%  Valid Acc: 98.930%\n",
      "Epoch: 24  Train Loss: 0.003  Valid Loss: 0.084  Train Acc: 99.893%  Valid Acc: 99.070%\n",
      "Epoch: 25  Train Loss: 0.004  Valid Loss: 0.075  Train Acc: 99.893%  Valid Acc: 99.130%\n",
      "Epoch: 26  Train Loss: 0.003  Valid Loss: 0.086  Train Acc: 99.917%  Valid Acc: 99.060%\n",
      "Epoch: 27  Train Loss: 0.004  Valid Loss: 0.104  Train Acc: 99.908%  Valid Acc: 98.840%\n",
      "Epoch: 28  Train Loss: 0.003  Valid Loss: 0.079  Train Acc: 99.912%  Valid Acc: 99.220%\n",
      "Epoch: 29  Train Loss: 0.004  Valid Loss: 0.080  Train Acc: 99.887%  Valid Acc: 99.030%\n"
     ]
    }
   ],
   "source": [
    "train_losses, valid_losses = [], []\n",
    "train_accs,   valid_accs  = [], []\n",
    "\n",
    "for epoch in range(30):\n",
    "    # ── 학습\n",
    "    model.train()\n",
    "    total_train_loss = 0.0\n",
    "    total_train_correct = 0\n",
    "\n",
    "    for data, target in train_loader:\n",
    "        data, target = data.to(device), target.to(device)\n",
    "        optimizer.zero_grad()\n",
    "        output = model(data)\n",
    "        loss   = criterion(output, target)\n",
    "        loss.backward()\n",
    "        optimizer.step()\n",
    "\n",
    "        total_train_loss   += loss.item() * data.size(0)\n",
    "        total_train_correct += output.argmax(1).eq(target).sum().item()\n",
    "\n",
    "    # ── 평가\n",
    "    model.eval()\n",
    "    total_valid_loss = 0.0\n",
    "    total_valid_correct = 0\n",
    "\n",
    "    with torch.no_grad():\n",
    "        for data, target in valid_loader:\n",
    "            data, target = data.to(device), target.to(device)\n",
    "            output = model(data)\n",
    "            \n",
    "            total_valid_loss    += criterion(output, target).item() * data.size(0)\n",
    "            total_valid_correct += output.argmax(1).eq(target).sum().item()\n",
    "\n",
    "    # ── 평균 계산\n",
    "    train_loss = total_train_loss / len(train_loader.dataset)\n",
    "    valid_loss = total_valid_loss / len(valid_loader.dataset)\n",
    "\n",
    "    train_acc = total_train_correct / len(train_loader.dataset)\n",
    "    valid_acc = total_valid_correct / len(valid_loader.dataset)\n",
    "\n",
    "    train_losses.append(train_loss)\n",
    "    valid_losses.append(valid_loss)\n",
    "    train_accs.append(train_acc)\n",
    "    valid_accs.append(valid_acc)\n",
    "\n",
    "    print(\n",
    "        f'Epoch: {epoch}  '\n",
    "        f'Train Loss: {train_loss:.3f}  '\n",
    "        f'Valid Loss: {valid_loss:.3f}  '\n",
    "        f'Train Acc: {train_acc*100:.3f}%  '\n",
    "        f'Valid Acc: {valid_acc*100:.3f}%'\n",
    "    )\n"
   ]
  },
  {
   "cell_type": "code",
   "execution_count": 93,
   "id": "63471469",
   "metadata": {},
   "outputs": [
    {
     "data": {
      "image/png": "[encoded data removed]",
      "text/plain": [
       "<Figure size 1200x600 with 2 Axes>"
      ]
     },
     "metadata": {},
     "output_type": "display_data"
    }
   ],
   "source": [
    "import matplotlib.pyplot as plt\n",
    "plt.figure(figsize=(12, 6))\n",
    "\n",
    "# Loss Plot\n",
    "plt.subplot(1, 2, 1)\n",
    "plt.plot(train_losses, label='Train Loss')\n",
    "plt.plot(valid_losses, label='Validation Loss')\n",
    "plt.xlabel('Epochs')\n",
    "plt.ylabel('Loss')\n",
    "plt.title('Loss vs Epochs')\n",
    "plt.legend()\n",
    "\n",
    "# Accuracy Plot\n",
    "plt.subplot(1, 2, 2)\n",
    "plt.plot(train_accs, label='Train Accuracy')\n",
    "plt.plot(valid_accs, label='Validation Accuracy')\n",
    "plt.xlabel('Epochs')\n",
    "plt.ylabel('Accuracy')\n",
    "plt.title('Accuracy vs Epochs')\n",
    "plt.legend()\n",
    "\n",
    "plt.tight_layout()\n",
    "plt.show()"
   ]
  },
  {
   "cell_type": "code",
   "execution_count": null,
   "id": "6452ec02",
   "metadata": {},
   "outputs": [
    {
     "name": "stdout",
     "output_type": "stream",
     "text": [
      "torch.Size([10000, 1, 28, 28])\n",
      "Accuracy: 0.9858999848365784\n"
     ]
    }
   ],
   "source": [
    "# # 학습을 진행하지 않을 것이므로 torch.no_grad() 사용\n",
    "# with torch.no_grad():\n",
    "#     # 테스트 데이터를 모델에 입력하기 위한 준비\n",
    "#     X_test = mnist_test.data.view(len(mnist_test), 1, 28, 28).float().to(device)  # 테스트 데이터셋의 크기를 맞추고, 연산을 위한 장치로 이동\n",
    "#     Y_test = mnist_test.targets.to(device)  # 테스트 데이터셋의 레이블을 연산을 위한 장치로 이동\n",
    "    \n",
    "#     print(X_test.shape)\n",
    "\n",
    "#     # 모델 예측 수행\n",
    "#     prediction = model(X_test)  # 테스트 데이터에 대해 모델이 예측한 결과값\n",
    "\n",
    "#     # 예측 결과와 실제 레이블 비교\n",
    "#     correct_prediction = torch.argmax(prediction, 1) == Y_test  # 예측된 클래스와 실제 레이블이 일치하는지 확인\n",
    "\n",
    "#     # 정확도 계산\n",
    "#     accuracy = correct_prediction.float().mean()  # 정확도를 계산하기 위해 일치하는 예측의 평균을 구함\n",
    "#     print('Accuracy:', accuracy.item())  # 정확도를 출력\n"
   ]
  }
 ],
 "metadata": {
  "kernelspec": {
   "display_name": "Python (torch_env)",
   "language": "python",
   "name": "torch_env"
  },
  "language_info": {
   "codemirror_mode": {
    "name": "ipython",
    "version": 3
   },
   "file_extension": ".py",
   "mimetype": "text/x-python",
   "name": "python",
   "nbconvert_exporter": "python",
   "pygments_lexer": "ipython3",
   "version": "3.12.3"
  }
 },
 "nbformat": 4,
 "nbformat_minor": 5
}
