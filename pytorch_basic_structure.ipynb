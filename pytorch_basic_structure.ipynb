{
 "cells": [
  {
   "cell_type": "markdown",
   "metadata": {
    "id": "sRJl5n5C8lW-"
   },
   "source": [
    "## import"
   ]
  },
  {
   "cell_type": "code",
   "execution_count": 11,
   "metadata": {
    "id": "z6tEW_4o8m73"
   },
   "outputs": [],
   "source": [
    "import torch\n",
    "import torch.nn as nn  # Import neural network module\n",
    "import torch.optim as optim  # Import optimization module\n",
    "from torchvision import datasets, transforms  # Import for datasets and transformations"
   ]
  },
  {
   "cell_type": "code",
   "execution_count": 10,
   "metadata": {},
   "outputs": [
    {
     "name": "stdout",
     "output_type": "stream",
     "text": [
      "Using device: cpu\n"
     ]
    }
   ],
   "source": [
    "# 디바이스 설정 (GPU 우선)\n",
    "device = torch.device(\"cuda\" if torch.cuda.is_available() else \"cpu\")\n",
    "print(f\"Using device: {device}\")"
   ]
  },
  {
   "cell_type": "markdown",
   "metadata": {
    "id": "SBbuzjnP8uk-"
   },
   "source": [
    "## Data preparation"
   ]
  },
  {
   "cell_type": "code",
   "execution_count": 2,
   "metadata": {
    "id": "7S9d928Y8xRF"
   },
   "outputs": [],
   "source": [
    "transform = transforms.Compose([\n",
    "    transforms.ToTensor(),  # Convert images to PyTorch tensors\n",
    "    transforms.Normalize((0.5,), (0.5,))  # Normalize with mean 0.5 and standard deviation 0.5\n",
    "])"
   ]
  },
  {
   "cell_type": "markdown",
   "metadata": {
    "id": "koRJ7Bty82s_"
   },
   "source": [
    "## Load MNIST datasets, applying the defined transformations"
   ]
  },
  {
   "cell_type": "code",
   "execution_count": 12,
   "metadata": {
    "id": "Qkc0tjTL81XD"
   },
   "outputs": [],
   "source": [
    "train_dataset = datasets.MNIST('./data', train=True, download=True, transform=transform)\n",
    "valid_dataset = datasets.MNIST('./data', train=False, download=True, transform=transform)"
   ]
  },
  {
   "cell_type": "code",
   "execution_count": 13,
   "metadata": {
    "colab": {
     "base_uri": "https://localhost:8080/"
    },
    "executionInfo": {
     "elapsed": 448,
     "status": "ok",
     "timestamp": 1734746719700,
     "user": {
      "displayName": "JongHyun Kim",
      "userId": "04750869897114690179"
     },
     "user_tz": -540
    },
    "id": "Qs6bCqkW9VCe",
    "outputId": "a0c009eb-feb4-4f2d-e567-38c66a46c470"
   },
   "outputs": [
    {
     "data": {
      "text/plain": [
       "(torchvision.datasets.mnist.MNIST, torchvision.datasets.mnist.MNIST)"
      ]
     },
     "execution_count": 13,
     "metadata": {},
     "output_type": "execute_result"
    }
   ],
   "source": [
    "type(train_dataset), type(valid_dataset)"
   ]
  },
  {
   "cell_type": "code",
   "execution_count": 14,
   "metadata": {
    "colab": {
     "base_uri": "https://localhost:8080/"
    },
    "executionInfo": {
     "elapsed": 4,
     "status": "ok",
     "timestamp": 1734746733565,
     "user": {
      "displayName": "JongHyun Kim",
      "userId": "04750869897114690179"
     },
     "user_tz": -540
    },
    "id": "uayMgE8t88ER",
    "outputId": "d1c03e6e-5487-4b39-9072-95d4812c790c"
   },
   "outputs": [
    {
     "data": {
      "text/plain": [
       "(torch.Size([60000, 28, 28]), torch.Size([10000, 28, 28]))"
      ]
     },
     "execution_count": 14,
     "metadata": {},
     "output_type": "execute_result"
    }
   ],
   "source": [
    "train_dataset.data.shape, valid_dataset.data.shape"
   ]
  },
  {
   "cell_type": "code",
   "execution_count": 15,
   "metadata": {
    "colab": {
     "base_uri": "https://localhost:8080/"
    },
    "executionInfo": {
     "elapsed": 1024,
     "status": "ok",
     "timestamp": 1734746755317,
     "user": {
      "displayName": "JongHyun Kim",
      "userId": "04750869897114690179"
     },
     "user_tz": -540
    },
    "id": "z2uhoJ879q6-",
    "outputId": "98b0b158-4359-4137-d370-365913091be8"
   },
   "outputs": [
    {
     "data": {
      "text/plain": [
       "(torch.Size([60000]), torch.Size([10000]))"
      ]
     },
     "execution_count": 15,
     "metadata": {},
     "output_type": "execute_result"
    }
   ],
   "source": [
    "train_dataset.targets.shape, valid_dataset.targets.shape"
   ]
  },
  {
   "cell_type": "markdown",
   "metadata": {
    "id": "fRmf5rzY9Ejv"
   },
   "source": [
    "## Create DataLoaders for efficient training and testing data handling"
   ]
  },
  {
   "cell_type": "code",
   "execution_count": 16,
   "metadata": {
    "id": "ivIDMVj49Fcv"
   },
   "outputs": [],
   "source": [
    "train_loader = torch.utils.data.DataLoader(train_dataset, batch_size=64, shuffle=True)\n",
    "valid_loader = torch.utils.data.DataLoader(valid_dataset, batch_size=64, shuffle=False)"
   ]
  },
  {
   "cell_type": "code",
   "execution_count": 8,
   "metadata": {
    "colab": {
     "base_uri": "https://localhost:8080/"
    },
    "executionInfo": {
     "elapsed": 384,
     "status": "ok",
     "timestamp": 1734757127974,
     "user": {
      "displayName": "JongHyun Kim",
      "userId": "04750869897114690179"
     },
     "user_tz": -540
    },
    "id": "rY5WnKTwEi2f",
    "outputId": "f7f0b83c-3e3d-4f49-8edb-121de4de3da0"
   },
   "outputs": [
    {
     "name": "stdout",
     "output_type": "stream",
     "text": [
      "torch.Size([64, 1, 28, 28]) torch.Size([64])\n"
     ]
    }
   ],
   "source": [
    "for X, Y in train_loader:\n",
    "    print(X.shape, Y.shape)\n",
    "    break"
   ]
  },
  {
   "cell_type": "code",
   "execution_count": 15,
   "metadata": {},
   "outputs": [
    {
     "data": {
      "text/plain": [
       "(torch.Size([64, 1, 28, 28]), torch.Size([64]))"
      ]
     },
     "execution_count": 15,
     "metadata": {},
     "output_type": "execute_result"
    }
   ],
   "source": [
    "X, Y = next(iter(train_loader))\n",
    "X.shape, Y.shape"
   ]
  },
  {
   "cell_type": "markdown",
   "metadata": {
    "id": "DAPM3vT09Ks_"
   },
   "source": [
    "## Model definition"
   ]
  },
  {
   "cell_type": "code",
   "execution_count": 17,
   "metadata": {
    "id": "GslJMuSH9Iux"
   },
   "outputs": [],
   "source": [
    "model = nn.Sequential(\n",
    "    nn.Flatten(),     # Flatten images into a single vector\n",
    "    nn.Linear(784, 128),  # Fully connected layer with 128 neurons\n",
    "    nn.ReLU(),           # ReLU activation for non-linearity\n",
    "    nn.Linear(128, 10)   # Output layer with 10 neurons (for 10 classes in MNIST)\n",
    ")"
   ]
  },
  {
   "cell_type": "markdown",
   "metadata": {
    "id": "Vd8wfqh09vuW"
   },
   "source": [
    "## Loss function and optimizer"
   ]
  },
  {
   "cell_type": "code",
   "execution_count": 18,
   "metadata": {
    "id": "i5Ygf86o9QK2"
   },
   "outputs": [],
   "source": [
    "loss_fn = nn.CrossEntropyLoss()  # Common loss function for classification\n",
    "optimizer = optim.SGD(model.parameters(), lr=0.01)  # Stochastic Gradient Descent optimizer"
   ]
  },
  {
   "cell_type": "markdown",
   "metadata": {
    "id": "X5h_v4yu9622"
   },
   "source": [
    "## Training and Evaluation loop"
   ]
  },
  {
   "cell_type": "code",
   "execution_count": 19,
   "metadata": {
    "colab": {
     "base_uri": "https://localhost:8080/"
    },
    "executionInfo": {
     "elapsed": 841,
     "status": "ok",
     "timestamp": 1734748671786,
     "user": {
      "displayName": "JongHyun Kim",
      "userId": "04750869897114690179"
     },
     "user_tz": -540
    },
    "id": "K1tZYV-oD468",
    "outputId": "f41d8b5e-a638-44ed-eb53-e5278b172e67"
   },
   "outputs": [
    {
     "data": {
      "text/plain": [
       "(10000, 60000)"
      ]
     },
     "execution_count": 19,
     "metadata": {},
     "output_type": "execute_result"
    }
   ],
   "source": [
    "len(valid_loader.dataset), len(train_loader.dataset)"
   ]
  },
  {
   "cell_type": "code",
   "execution_count": null,
   "metadata": {
    "colab": {
     "base_uri": "https://localhost:8080/"
    },
    "executionInfo": {
     "elapsed": 389,
     "status": "ok",
     "timestamp": 1734749772555,
     "user": {
      "displayName": "JongHyun Kim",
      "userId": "04750869897114690179"
     },
     "user_tz": -540
    },
    "id": "8Jyv6wsPJLo7",
    "outputId": "b84adaf2-72cb-4231-d869-2fa049c4db90"
   },
   "outputs": [
    {
     "data": {
      "text/plain": [
       "(938, 157)"
      ]
     },
     "execution_count": 19,
     "metadata": {},
     "output_type": "execute_result"
    }
   ],
   "source": [
    "len(train_loader), len(valid_loader)"
   ]
  },
  {
   "cell_type": "code",
   "execution_count": 20,
   "metadata": {
    "colab": {
     "base_uri": "https://localhost:8080/"
    },
    "executionInfo": {
     "elapsed": 437,
     "status": "ok",
     "timestamp": 1734750375459,
     "user": {
      "displayName": "JongHyun Kim",
      "userId": "04750869897114690179"
     },
     "user_tz": -540
    },
    "id": "S-L_lAWvLezS",
    "outputId": "82d241d7-782e-48f2-9e19-67333d79fa76"
   },
   "outputs": [
    {
     "data": {
      "text/plain": [
       "(64, 64)"
      ]
     },
     "execution_count": 20,
     "metadata": {},
     "output_type": "execute_result"
    }
   ],
   "source": [
    "train_loader.batch_size, valid_loader.batch_size"
   ]
  },
  {
   "cell_type": "code",
   "execution_count": 36,
   "metadata": {},
   "outputs": [
    {
     "name": "stdout",
     "output_type": "stream",
     "text": [
      "Total batches per epoch: 938\n",
      "\n",
      "Epoch 1/3\n",
      "938/938\n",
      "total 60000\n",
      "Train Loss: 0.0733 | Valid Loss: 0.0963 | Train Accuracy: 0.9798 | Valid Accuracy: 0.9711 (9711/10000)\n",
      "\n",
      "Epoch 2/3\n",
      "938/938\n",
      "total 60000\n",
      "Train Loss: 0.0716 | Valid Loss: 0.0926 | Train Accuracy: 0.9808 | Valid Accuracy: 0.9715 (9715/10000)\n",
      "\n",
      "Epoch 3/3\n",
      "938/938\n",
      "total 60000\n",
      "Train Loss: 0.0699 | Valid Loss: 0.0919 | Train Accuracy: 0.9810 | Valid Accuracy: 0.9721 (9721/10000)\n"
     ]
    }
   ],
   "source": [
    "train_losses = []\n",
    "train_accuracies = []\n",
    "val_losses = []\n",
    "val_accuracies = []\n",
    "\n",
    "num_epochs = 3\n",
    "total_num_dataset = len(train_loader.dataset)  # 전체 train_dataset(60000)\n",
    "num_batches_per_epoch = len(train_loader)  # 전체 train_dataset(60000) / batch_size=64 -> 938\n",
    "print(f\"Total batches per epoch: {num_batches_per_epoch}\")\n",
    "\n",
    "for epoch in range(num_epochs):  # Loop for 5 epochs\n",
    "    # Epoch 변화 출력\n",
    "    print(f\"\\nEpoch {epoch + 1}/{num_epochs}\")  \n",
    "    \n",
    "    ## Train\n",
    "    model.train()  # Set the model to training mode\n",
    "    \n",
    "    train_loss = 0\n",
    "    correct = 0\n",
    "    total = 0\n",
    "    \n",
    "    for batch_idx, (data, target) in enumerate(train_loader):\n",
    "        # 데이터를 GPU로 이동\n",
    "        data, target = data.to(device), target.to(device)\n",
    "        \n",
    "        optimizer.zero_grad()\n",
    "        output = model(data)\n",
    "        loss = loss_fn(output, target)\n",
    "        loss.backward()\n",
    "        optimizer.step()\n",
    "\n",
    "        train_loss += loss.item()\n",
    "\n",
    "        pred = output.argmax(dim=1, keepdim=True)\n",
    "        correct += pred.eq(target.view_as(pred)).sum().item()\n",
    "        total += target.size(0)   # target.size(0) -> batch_szie\n",
    "    \n",
    "    print(f'{batch_idx+1}/{len(train_loader)}')\n",
    "    print('total', total)\n",
    "\n",
    "    train_loss = train_loss / num_batches_per_epoch  # num_batches_per_epoch -> 전체 train_dataset(60000) / batch_size=64 -> 938\n",
    "    train_accuracy = correct / total  # total -> batch_size * iteration 수 ->  전체 train_dataset(60000)\n",
    "        \n",
    "    train_losses.append(train_loss)\n",
    "    train_accuracies.append(train_accuracy)\n",
    "\n",
    "    # === Validation ===\n",
    "    model.eval()\n",
    "    val_loss = 0\n",
    "    correct = 0\n",
    "    total = 0\n",
    "\n",
    "    with torch.no_grad():\n",
    "        for batch_idx, (data, target) in enumerate(valid_loader):\n",
    "            data, target = data.to(device), target.to(device)\n",
    "            \n",
    "            output = model(data)\n",
    "            val_loss += loss_fn(output, target).item()\n",
    "            pred = output.argmax(dim=1, keepdim=True)\n",
    "            correct += pred.eq(target.view_as(pred)).sum().item()\n",
    "            total += target.size(0)\n",
    "\n",
    "    val_loss /= len(valid_loader)\n",
    "    val_accuracy = correct / total\n",
    "    val_losses.append(val_loss)\n",
    "    val_accuracies.append(val_accuracy)\n",
    "    \n",
    "    print(\n",
    "        f\"Train Loss: {train_loss:.4f} | Valid Loss: {val_loss:.4f} | \"\n",
    "        f\"Train Accuracy: {train_accuracy:.4f} | Valid Accuracy: {val_accuracy:.4f} ({correct}/{total})\"\n",
    "    )"
   ]
  },
  {
   "cell_type": "markdown",
   "metadata": {},
   "source": [
    "## Visualization of Training Results"
   ]
  },
  {
   "cell_type": "code",
   "execution_count": 23,
   "metadata": {},
   "outputs": [
    {
     "data": {
      "image/png": "[encoded data removed]",
      "text/plain": [
       "<Figure size 1000x400 with 2 Axes>"
      ]
     },
     "metadata": {},
     "output_type": "display_data"
    }
   ],
   "source": [
    "import matplotlib.pyplot as plt\n",
    "\n",
    "# Loss 시각화\n",
    "plt.figure(figsize=(10, 4))\n",
    "plt.subplot(1, 2, 1)\n",
    "plt.plot(train_losses, label='Train Loss')\n",
    "plt.plot(val_losses, label='Validation Loss')\n",
    "plt.xlabel('Epoch')\n",
    "plt.ylabel('Loss')\n",
    "plt.title('Loss over Epochs')\n",
    "plt.legend()\n",
    "\n",
    "# Accuracy 시각화\n",
    "plt.subplot(1, 2, 2)\n",
    "plt.plot(train_accuracies, label='Train Accuracy')\n",
    "plt.plot(val_accuracies, label='Validation Accuracy')\n",
    "plt.xlabel('Epoch')\n",
    "plt.ylabel('Accuracy')\n",
    "plt.title('Accuracy over Epochs')\n",
    "plt.legend()\n",
    "\n",
    "plt.tight_layout()\n",
    "plt.show()"
   ]
  },
  {
   "cell_type": "code",
   "execution_count": null,
   "metadata": {
    "id": "TW2ZRVZEQAH0"
   },
   "outputs": [],
   "source": []
  }
 ],
 "metadata": {
  "accelerator": "GPU",
  "colab": {
   "authorship_tag": "ABX9TyMyqVb39P4XKcuPxpjtPpbq",
   "gpuType": "T4",
   "provenance": []
  },
  "kernelspec": {
   "display_name": "torch_env",
   "language": "python",
   "name": "python3"
  },
  "language_info": {
   "codemirror_mode": {
    "name": "ipython",
    "version": 3
   },
   "file_extension": ".py",
   "mimetype": "text/x-python",
   "name": "python",
   "nbconvert_exporter": "python",
   "pygments_lexer": "ipython3",
   "version": "3.12.3"
  }
 },
 "nbformat": 4,
 "nbformat_minor": 0
}
