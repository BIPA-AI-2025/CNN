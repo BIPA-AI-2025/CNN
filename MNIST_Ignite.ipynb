{
 "cells": [
  {
   "cell_type": "markdown",
   "id": "fae074d7",
   "metadata": {},
   "source": [
    "## ignite\n",
    "\n",
    "https://docs.pytorch.org/ignite/\n",
    "https://github.com/pytorch/ignite"
   ]
  },
  {
   "cell_type": "code",
   "execution_count": 4,
   "id": "ec902f60",
   "metadata": {},
   "outputs": [],
   "source": [
    "import torch\n",
    "import torch.nn as nn\n",
    "import torch.optim as optim\n",
    "from torchvision import datasets, transforms\n",
    "from torch.utils.data import DataLoader\n",
    "\n",
    "from ignite.engine import Engine, Events\n",
    "from ignite.metrics import Accuracy, Loss, ConfusionMatrix, Precision, Recall\n",
    "from ignite.contrib.handlers import ProgressBar"
   ]
  },
  {
   "cell_type": "code",
   "execution_count": 5,
   "id": "2ac72272",
   "metadata": {},
   "outputs": [],
   "source": [
    "device = torch.device(\"cuda\" if torch.cuda.is_available() else \"cpu\")\n",
    "batch_size = 64\n",
    "learning_rate = 0.001\n",
    "num_epochs = 5\n",
    "num_classes = 10"
   ]
  },
  {
   "cell_type": "code",
   "execution_count": 6,
   "id": "4599157c",
   "metadata": {},
   "outputs": [],
   "source": [
    "transform = transforms.Compose([\n",
    "    transforms.ToTensor(),\n",
    "    transforms.Normalize((0.1307,), (0.3081,))\n",
    "])\n",
    "\n",
    "train_dataset = datasets.MNIST('./data', train=True, download=True, transform=transform)\n",
    "val_dataset = datasets.MNIST('./data', train=False, download=True, transform=transform)\n",
    "\n",
    "train_loader = DataLoader(train_dataset, batch_size=batch_size, shuffle=True)\n",
    "val_loader = DataLoader(val_dataset, batch_size=batch_size, shuffle=False)"
   ]
  },
  {
   "cell_type": "code",
   "execution_count": 7,
   "id": "a8eefa55",
   "metadata": {},
   "outputs": [],
   "source": [
    "model = nn.Sequential(\n",
    "    nn.Flatten(),\n",
    "    nn.Linear(28 * 28, 128),\n",
    "    nn.ReLU(),\n",
    "    nn.Linear(128, num_classes)\n",
    ").to(device)\n",
    "\n",
    "criterion = nn.CrossEntropyLoss()\n",
    "optimizer = optim.Adam(model.parameters(), lr=learning_rate)\n"
   ]
  },
  {
   "cell_type": "code",
   "execution_count": 8,
   "id": "8bda5e31",
   "metadata": {},
   "outputs": [],
   "source": [
    "# ----------------------------\n",
    "# 학습용 Engine 정의\n",
    "# ----------------------------\n",
    "def train_step(engine, batch):\n",
    "    model.train()\n",
    "    inputs, targets = batch\n",
    "    inputs, targets = inputs.to(device), targets.to(device)\n",
    "\n",
    "    optimizer.zero_grad()\n",
    "    outputs = model(inputs)\n",
    "    loss = criterion(outputs, targets)\n",
    "    loss.backward()\n",
    "    optimizer.step()\n",
    "    return outputs, targets\n",
    "\n",
    "trainer = Engine(train_step)"
   ]
  },
  {
   "cell_type": "code",
   "execution_count": 9,
   "id": "0e862d3a",
   "metadata": {},
   "outputs": [],
   "source": [
    "# ----------------------------\n",
    "# 검증용 Engine 정의\n",
    "# ----------------------------\n",
    "def eval_step(engine, batch):\n",
    "    model.eval()\n",
    "    with torch.no_grad():\n",
    "        inputs, targets = batch\n",
    "        inputs, targets = inputs.to(device), targets.to(device)\n",
    "        outputs = model(inputs)\n",
    "        return outputs, targets\n",
    "\n",
    "evaluator = Engine(eval_step)"
   ]
  },
  {
   "cell_type": "code",
   "execution_count": 10,
   "id": "1bcac76a",
   "metadata": {},
   "outputs": [],
   "source": [
    "# ----------------------------\n",
    "# 메트릭 붙이기\n",
    "# ----------------------------\n",
    "Accuracy().attach(trainer, \"accuracy\")\n",
    "Loss(criterion).attach(trainer, \"loss\")\n",
    "\n",
    "metrics = {\n",
    "    \"accuracy\": Accuracy(),\n",
    "    \"loss\": Loss(criterion),\n",
    "    \"precision\": Precision(average=True),\n",
    "    \"recall\": Recall(average=True),\n",
    "    \"confusion_matrix\": ConfusionMatrix(num_classes=num_classes)\n",
    "}\n",
    "\n",
    "for name, metric in metrics.items():\n",
    "    metric.attach(evaluator, name)"
   ]
  },
  {
   "cell_type": "code",
   "execution_count": 11,
   "id": "72b5f6ed",
   "metadata": {},
   "outputs": [],
   "source": [
    "# ----------------------------\n",
    "# 진행 바\n",
    "# ----------------------------\n",
    "ProgressBar().attach(trainer)"
   ]
  },
  {
   "cell_type": "code",
   "execution_count": 12,
   "id": "62e538a6",
   "metadata": {},
   "outputs": [],
   "source": [
    "# ----------------------------\n",
    "# Epoch 끝날 때마다 평가\n",
    "# ----------------------------\n",
    "@trainer.on(Events.EPOCH_COMPLETED)\n",
    "def log_validation_results(engine):\n",
    "    evaluator.run(val_loader)\n",
    "    metrics = evaluator.state.metrics\n",
    "    print(f\"\\nValidation Results - Epoch: {engine.state.epoch}\")\n",
    "    print(f\" Accuracy: {metrics['accuracy']:.4f}\")\n",
    "    print(f\" Precision: {metrics['precision']:.4f}\")\n",
    "    print(f\" Recall: {metrics['recall']:.4f}\")\n",
    "    print(f\" Loss: {metrics['loss']:.4f}\")\n",
    "    print(f\" Confusion Matrix:\\n{metrics['confusion_matrix'].cpu().numpy()}\")\n"
   ]
  },
  {
   "cell_type": "code",
   "execution_count": 13,
   "id": "4559470b",
   "metadata": {},
   "outputs": [
    {
     "data": {
      "application/vnd.jupyter.widget-view+json": {
       "model_id": "93aa4cb625144e6683e8131438e9f350",
       "version_major": 2,
       "version_minor": 0
      },
      "text/plain": [
       "[1/938]   0%|           [00:00<?]"
      ]
     },
     "metadata": {},
     "output_type": "display_data"
    },
    {
     "name": "stdout",
     "output_type": "stream",
     "text": [
      "\n",
      "Validation Results - Epoch: 1\n",
      " Accuracy: 0.9606\n",
      " Precision: 0.9608\n",
      " Recall: 0.9601\n",
      " Loss: 0.1347\n",
      " Confusion Matrix:\n",
      "[[ 968    0    0    2    0    2    5    1    2    0]\n",
      " [   0 1124    2    2    0    0    3    0    4    0]\n",
      " [   9    1  989    9    2    1    2    6   13    0]\n",
      " [   1    0    7  981    0    3    0    5   11    2]\n",
      " [   2    0   10    1  931    0    8    3    7   20]\n",
      " [   3    2    0   22    0  844    9    0    9    3]\n",
      " [   7    3    0    0    3    9  930    1    5    0]\n",
      " [   1   11   15   10    1    1    0  974    4   11]\n",
      " [   4    2    5   19    4    4    7    5  923    1]\n",
      " [   4    8    2   15   14    4    2    7   11  942]]\n"
     ]
    },
    {
     "data": {
      "application/vnd.jupyter.widget-view+json": {
       "model_id": "e4138e1cdcee44ab9c52f7d10f78788a",
       "version_major": 2,
       "version_minor": 0
      },
      "text/plain": [
       "[1/938]   0%|           [00:00<?]"
      ]
     },
     "metadata": {},
     "output_type": "display_data"
    },
    {
     "name": "stdout",
     "output_type": "stream",
     "text": [
      "\n",
      "Validation Results - Epoch: 2\n",
      " Accuracy: 0.9649\n",
      " Precision: 0.9649\n",
      " Recall: 0.9649\n",
      " Loss: 0.1053\n",
      " Confusion Matrix:\n",
      "[[ 966    0    0    1    0    2    6    2    3    0]\n",
      " [   0 1119    3    1    0    1    4    0    7    0]\n",
      " [   9    1  980    2    7    1    3    9   20    0]\n",
      " [   1    0    2  941    0   38    0    5   14    9]\n",
      " [   1    0    1    0  932    1    6    3    6   32]\n",
      " [   3    0    0    1    0  871    4    1    9    3]\n",
      " [   4    4    0    0    3   11  929    1    6    0]\n",
      " [   1    7    8    1    2    0    0  984    4   21]\n",
      " [   5    0    2    1    1    9    1    3  948    4]\n",
      " [   4    6    0    4    6    4    0    3    3  979]]\n"
     ]
    },
    {
     "data": {
      "application/vnd.jupyter.widget-view+json": {
       "model_id": "2e41ea44b6764d2e983b862fc4797a14",
       "version_major": 2,
       "version_minor": 0
      },
      "text/plain": [
       "[1/938]   0%|           [00:00<?]"
      ]
     },
     "metadata": {},
     "output_type": "display_data"
    },
    {
     "name": "stdout",
     "output_type": "stream",
     "text": [
      "\n",
      "Validation Results - Epoch: 3\n",
      " Accuracy: 0.9734\n",
      " Precision: 0.9733\n",
      " Recall: 0.9733\n",
      " Loss: 0.0851\n",
      " Confusion Matrix:\n",
      "[[ 966    0    3    1    1    2    3    2    2    0]\n",
      " [   0 1118    4    1    0    0    5    1    6    0]\n",
      " [   5    1  994    1    5    0    3    6   17    0]\n",
      " [   0    0    4  981    0   12    0    4    6    3]\n",
      " [   1    0    5    0  955    0    6    1    3   11]\n",
      " [   3    0    0    6    0  866    4    1   10    2]\n",
      " [   4    4    0    0    5    6  933    0    6    0]\n",
      " [   1    6   11    6    1    0    1  987    3   12]\n",
      " [   2    0    2    4    2    2    2    3  953    4]\n",
      " [   3    2    0    3    8    3    0    3    6  981]]\n"
     ]
    },
    {
     "data": {
      "application/vnd.jupyter.widget-view+json": {
       "model_id": "eea1d6b65832444291545537684f6231",
       "version_major": 2,
       "version_minor": 0
      },
      "text/plain": [
       "[1/938]   0%|           [00:00<?]"
      ]
     },
     "metadata": {},
     "output_type": "display_data"
    },
    {
     "name": "stdout",
     "output_type": "stream",
     "text": [
      "\n",
      "Validation Results - Epoch: 4\n",
      " Accuracy: 0.9742\n",
      " Precision: 0.9739\n",
      " Recall: 0.9741\n",
      " Loss: 0.0852\n",
      " Confusion Matrix:\n",
      "[[ 966    0    2    1    1    4    5    1    0    0]\n",
      " [   0 1127    1    2    0    0    2    0    3    0]\n",
      " [   5    5 1005    4    2    0    3    4    4    0]\n",
      " [   0    0    1  974    0   25    0    3    2    5]\n",
      " [   1    0    2    1  940    2    6    1    3   26]\n",
      " [   2    0    0    1    0  883    3    0    2    1]\n",
      " [   4    3    0    1    3    7  940    0    0    0]\n",
      " [   0    5   10    4    1    0    0  996    2   10]\n",
      " [   3    0    3    8    2   15    2    4  932    5]\n",
      " [   2    2    1    4    3   12    1    3    2  979]]\n"
     ]
    },
    {
     "data": {
      "application/vnd.jupyter.widget-view+json": {
       "model_id": "59778afdeb1f497988d103c51a60c604",
       "version_major": 2,
       "version_minor": 0
      },
      "text/plain": [
       "[1/938]   0%|           [00:00<?]"
      ]
     },
     "metadata": {},
     "output_type": "display_data"
    },
    {
     "name": "stdout",
     "output_type": "stream",
     "text": [
      "\n",
      "Validation Results - Epoch: 5\n",
      " Accuracy: 0.9751\n",
      " Precision: 0.9749\n",
      " Recall: 0.9749\n",
      " Loss: 0.0904\n",
      " Confusion Matrix:\n",
      "[[ 969    0    0    2    1    3    3    1    1    0]\n",
      " [   0 1123    3    2    0    0    2    2    3    0]\n",
      " [   9    0  997    2    2    1    3   14    3    1]\n",
      " [   2    0    0  994    0    9    0    3    1    1]\n",
      " [   1    0    3    1  947    2    5    3    1   19]\n",
      " [   2    0    0    5    0  881    3    0    0    1]\n",
      " [   4    2    0    1    1   16  932    0    2    0]\n",
      " [   2    0    5    2    0    0    0 1011    0    8]\n",
      " [   7    0    1   12    1   25    1    7  907   13]\n",
      " [   0    2    0    4    2    2    2    7    0  990]]\n"
     ]
    },
    {
     "data": {
      "text/plain": [
       "State:\n",
       "\titeration: 4690\n",
       "\tepoch: 5\n",
       "\tepoch_length: 938\n",
       "\tmax_epochs: 5\n",
       "\toutput: <class 'tuple'>\n",
       "\tbatch: <class 'list'>\n",
       "\tmetrics: <class 'dict'>\n",
       "\tdataloader: <class 'torch.utils.data.dataloader.DataLoader'>\n",
       "\tseed: <class 'NoneType'>\n",
       "\ttimes: <class 'dict'>"
      ]
     },
     "execution_count": 13,
     "metadata": {},
     "output_type": "execute_result"
    }
   ],
   "source": [
    "# ----------------------------\n",
    "# 학습 실행\n",
    "# ----------------------------\n",
    "trainer.run(train_loader, max_epochs=num_epochs)"
   ]
  }
 ],
 "metadata": {
  "kernelspec": {
   "display_name": "torch_env",
   "language": "python",
   "name": "python3"
  },
  "language_info": {
   "codemirror_mode": {
    "name": "ipython",
    "version": 3
   },
   "file_extension": ".py",
   "mimetype": "text/x-python",
   "name": "python",
   "nbconvert_exporter": "python",
   "pygments_lexer": "ipython3",
   "version": "3.12.3"
  }
 },
 "nbformat": 4,
 "nbformat_minor": 5
}
