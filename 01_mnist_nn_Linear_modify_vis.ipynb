{
 "cells": [
  {
   "cell_type": "markdown",
   "metadata": {
    "id": "hr61FqXw2zfz"
   },
   "source": [
    "<center><a href=\"https://www.nvidia.com/dli\"> <img src=\"images/DLI_Header.png\" alt=\"Header\" style=\"width: 400px;\"/> </a></center>"
   ]
  },
  {
   "cell_type": "markdown",
   "metadata": {
    "id": "dLa1EZq42zf0"
   },
   "source": [
    "# 1. Image Classification with the MNIST Dataset"
   ]
  },
  {
   "cell_type": "markdown",
   "metadata": {
    "id": "B-nDnmoC2zf1"
   },
   "source": [
    "In this section we will do the \"Hello World\" of deep learning: training a deep learning model to correctly classify hand-written digits."
   ]
  },
  {
   "cell_type": "markdown",
   "metadata": {
    "id": "ZWd9Mjxm2zf1"
   },
   "source": [
    "## 1.1 Objectives"
   ]
  },
  {
   "cell_type": "markdown",
   "metadata": {
    "id": "qmkmljVQ2zf1"
   },
   "source": [
    "* Understand how deep learning can solve problems traditional programming methods cannot\n",
    "* Learn about the [MNIST handwritten digits dataset](http://yann.lecun.com/exdb/mnist/)\n",
    "* Use the [torchvision](https://pytorch.org/vision/stable/index.html) to load the MNIST dataset and prepare it for training\n",
    "* Create a simple neural network to perform image classification\n",
    "* Train the neural network using the prepped MNIST dataset\n",
    "* Observe the performance of the trained neural network"
   ]
  },
  {
   "cell_type": "markdown",
   "metadata": {
    "id": "4uFC0aZeagep"
   },
   "source": [
    "Let's begin by loading the libraries used in this notebook:"
   ]
  },
  {
   "cell_type": "code",
   "execution_count": 1,
   "metadata": {
    "id": "siboVxRJ5pes"
   },
   "outputs": [],
   "source": [
    "import torch\n",
    "import torch.nn as nn\n",
    "from torch.utils.data import Dataset, DataLoader\n",
    "from torch.optim import Adam\n",
    "\n",
    "# Visualization tools\n",
    "import torchvision\n",
    "import torchvision.transforms.v2 as transforms\n",
    "import torchvision.transforms.functional as F\n",
    "import matplotlib.pyplot as plt"
   ]
  },
  {
   "cell_type": "markdown",
   "metadata": {
    "id": "FQJHCNcy5_Mk"
   },
   "source": [
    "In PyTorch, we can use our GPU in our operations by setting the [device](https://pytorch.org/docs/stable/tensor_attributes.html#torch.device) to `cuda`. The function `torch.cuda.is_available()` will confirm PyTorch can recognize the GPU."
   ]
  },
  {
   "cell_type": "code",
   "execution_count": 2,
   "metadata": {
    "colab": {
     "base_uri": "https://localhost:8080/"
    },
    "executionInfo": {
     "elapsed": 5,
     "status": "ok",
     "timestamp": 1734349225724,
     "user": {
      "displayName": "JongHyun Kim",
      "userId": "04750869897114690179"
     },
     "user_tz": -540
    },
    "id": "AgBjq0uu6CYm",
    "outputId": "8245382a-9e8b-4250-a105-c002bab97382"
   },
   "outputs": [
    {
     "data": {
      "text/plain": [
       "True"
      ]
     },
     "execution_count": 2,
     "metadata": {},
     "output_type": "execute_result"
    }
   ],
   "source": [
    "device = torch.device(\"cuda\" if torch.cuda.is_available() else \"cpu\")\n",
    "torch.cuda.is_available()"
   ]
  },
  {
   "cell_type": "code",
   "execution_count": 3,
   "metadata": {},
   "outputs": [
    {
     "data": {
      "text/plain": [
       "device(type='cuda')"
      ]
     },
     "execution_count": 3,
     "metadata": {},
     "output_type": "execute_result"
    }
   ],
   "source": [
    "device"
   ]
  },
  {
   "cell_type": "markdown",
   "metadata": {
    "id": "XC3FFt-Z2zf1"
   },
   "source": [
    "### 1.1.1 The Problem: Image Classification"
   ]
  },
  {
   "cell_type": "markdown",
   "metadata": {
    "id": "ygLT32E-2zf1"
   },
   "source": [
    "In traditional programming, the programmer is able to articulate rules and conditions in their code that their program can then use to act in the correct way. This approach continues to work exceptionally well for a huge variety of problems.\n",
    "\n",
    "Image classification, which asks a program to correctly classify an image it has never seen before into its correct class, is near impossible to solve with traditional programming techniques. How could a programmer possibly define the rules and conditions to correctly classify a huge variety of images, especially taking into account images that they have never seen?"
   ]
  },
  {
   "cell_type": "markdown",
   "metadata": {
    "id": "ch148qeW2zf2"
   },
   "source": [
    "### 1.1.2 The Solution: Deep Learning"
   ]
  },
  {
   "cell_type": "markdown",
   "metadata": {
    "id": "cdR-fe3Y2zf2"
   },
   "source": [
    "Deep learning excels at pattern recognition by trial and error. By training a deep neural network with sufficient data, and providing the network with feedback on its performance via training, the network can identify, though a huge amount of iteration, its own set of conditions by which it can act in the correct way."
   ]
  },
  {
   "cell_type": "markdown",
   "metadata": {
    "id": "g8e6Tasm2zf2"
   },
   "source": [
    "## 1.2 The MNIST Dataset"
   ]
  },
  {
   "cell_type": "markdown",
   "metadata": {
    "id": "HUopNy9V2zf2"
   },
   "source": [
    "In the history of deep learning, the accurate image classification of the [MNIST dataset](http://yann.lecun.com/exdb/mnist/), a collection of 70,000 grayscale images of handwritten digits from 0 to 9, was a major development. While today the problem is considered trivial, doing image classification with MNIST has become a kind of \"Hello World\" for deep learning."
   ]
  },
  {
   "cell_type": "markdown",
   "metadata": {
    "id": "0fjGsFR_2zf2"
   },
   "source": [
    "Here are 40 of the images included in the MNIST dataset:"
   ]
  },
  {
   "cell_type": "markdown",
   "metadata": {
    "id": "6U1GdBU72zf2"
   },
   "source": [
    "<img src=\"https://cdn.botpenguin.com/assets/website/1_Xd_CM_Ca_H_Pt_pqt_Eib_Uf_An_Nw_f24d55833c.webp\" style=\"width: 600px;\">"
   ]
  },
  {
   "cell_type": "markdown",
   "metadata": {
    "id": "4ksf2B052zf2"
   },
   "source": [
    "### 1.2.1 Training and Validation Data and Labels"
   ]
  },
  {
   "cell_type": "markdown",
   "metadata": {
    "id": "8d-FSGUU2zf2"
   },
   "source": [
    "When working with images for deep learning, we need both the images themselves, usually denoted as `X`, and also, correct [labels](https://developers.google.com/machine-learning/glossary#label) for these images, usually denoted as `Y`. Furthermore, we need `X` and `Y` values both for *training* the model, and then, a separate set of `X` and `Y` values for *validating* the performance of the model after it has been trained.\n",
    "\n",
    "We can imagine these `X` and `Y` pairs as a set of flash cards. A student can train with one set of flashcards, and to validate the student learned the correct concepts, a teacher might quiz the student with a different set of flash cards.\n",
    "\n",
    "Therefore, we need 4 segments of data for the MNIST dataset:\n",
    "\n",
    "1. `x_train`: Images used for training the neural network\n",
    "2. `y_train`: Correct labels for the `x_train` images, used to evaluate the model's predictions during training\n",
    "3. `x_valid`: Images set aside for validating the performance of the model after it has been trained\n",
    "4. `y_valid`: Correct labels for the `x_valid` images, used to evaluate the model's predictions after it has been trained\n",
    "\n",
    "The process of preparing data for analysis is called [Data Engineering](https://medium.com/@rchang/a-beginners-guide-to-data-engineering-part-i-4227c5c457d7). To learn more about the differences between training data and validation data (as well as test data), check out [this article](https://machinelearningmastery.com/difference-test-validation-datasets/) by Jason Brownlee."
   ]
  },
  {
   "cell_type": "markdown",
   "metadata": {
    "id": "exXV58Gn2zf2"
   },
   "source": [
    "### 1.2.2 Loading the Data Into Memory (with Keras)"
   ]
  },
  {
   "cell_type": "markdown",
   "metadata": {
    "id": "Rp-63AGt2zf2"
   },
   "source": [
    "There are many [deep learning frameworks](https://developer.nvidia.com/deep-learning-frameworks), each with their own merits. In this workshop we will be working with [PyTorch 2](https://pytorch.org/get-started/pytorch-2.0/), and specifically with the [Sequential API](https://pytorch.org/docs/stable/generated/torch.nn.Sequential.html). The Sequential API has many useful built in functions designed for constructing neural networks. It is also a legitimate choice for deep learning in a professional setting due to its [readability](https://blog.pragmaticengineer.com/readable-code/) and efficiency, though it is not alone in this regard, and it is worth investigating a variety of frameworks when beginning a deep learning project.\n",
    "\n",
    "We will also use the [TorchVision](https://pytorch.org/vision/stable/index.html) library. One of the many helpful features that it provides are modules containing helper methods for [many common datasets](https://pytorch.org/vision/main/datasets.html), including MNIST.\n",
    "\n",
    "We will begin by loading both the `train` and `valid` datasets for [MNIST](https://pytorch.org/vision/main/generated/torchvision.datasets.MNIST.html#torchvision.datasets.MNIST)."
   ]
  },
  {
   "cell_type": "code",
   "execution_count": 4,
   "metadata": {
    "colab": {
     "base_uri": "https://localhost:8080/"
    },
    "executionInfo": {
     "elapsed": 2443,
     "status": "ok",
     "timestamp": 1734349228163,
     "user": {
      "displayName": "JongHyun Kim",
      "userId": "04750869897114690179"
     },
     "user_tz": -540
    },
    "id": "If_AfbCG2zf3",
    "outputId": "cc09b3bd-24ee-4803-d52c-e046dcf05a66"
   },
   "outputs": [],
   "source": [
    "# train_set = torchvision.datasets.MNIST(\"./data/\", train=True, download=True)\n",
    "# valid_set = torchvision.datasets.MNIST(\"./data/\", train=False, download=True)"
   ]
  },
  {
   "cell_type": "markdown",
   "metadata": {},
   "source": [
    "### Transforms"
   ]
  },
  {
   "cell_type": "markdown",
   "metadata": {},
   "source": [
    "The [Compose](https://pytorch.org/vision/stable/generated/torchvision.transforms.v2.Compose.html#torchvision.transforms.v2.Compose) fuction combines a list of transforms. We will learn more about transforms in a later notebook, but have copied the `trans` definition below as an introduction.\n",
    "\n",
    "* Data Augmentation\n",
    "\n",
    "```\n",
    "transforms.Compose([\n",
    "    transforms.CenterCrop(10),\n",
    "    transforms.PILToTensor(),\n",
    "    transforms.ConvertImageDtype(torch.float),\n",
    "])\n",
    "```"
   ]
  },
  {
   "cell_type": "code",
   "execution_count": 5,
   "metadata": {},
   "outputs": [
    {
     "name": "stderr",
     "output_type": "stream",
     "text": [
      "f:\\Anaconda3\\envs\\torch_env_113\\lib\\site-packages\\torchvision\\transforms\\v2\\_deprecated.py:41: UserWarning: The transform `ToTensor()` is deprecated and will be removed in a future release. Instead, please use `v2.Compose([v2.ToImage(), v2.ToDtype(torch.float32, scale=True)])`.\n",
      "  warnings.warn(\n"
     ]
    }
   ],
   "source": [
    "# transforms.ToTensor()는 이 픽셀 값을 0에서 1 사이의 값으로 변환.\n",
    "# 즉, 각 픽셀 값을 255로 나누어 정규화\n",
    "trans = transforms.Compose([transforms.ToTensor()])\n",
    "\n",
    "train_set = torchvision.datasets.MNIST(\"./data/\", \n",
    "                                       train=True, \n",
    "                                       transform=trans,\n",
    "                                       download=True)\n",
    "valid_set = torchvision.datasets.MNIST(\"./data/\", \n",
    "                                       train=False, \n",
    "                                       transform=trans,\n",
    "                                       download=True)"
   ]
  },
  {
   "cell_type": "markdown",
   "metadata": {
    "id": "V7GzPX5Xaget"
   },
   "source": [
    "We stated above that the MNIST dataset contained 70,000 grayscale images of handwritten digits. By executing the following cells, we can see that TorchVision has partitioned 60,000 of these [PIL Images](https://pillow.readthedocs.io/en/stable/reference/Image.html) for training, and 10,000 for validation (after training)."
   ]
  },
  {
   "cell_type": "code",
   "execution_count": 6,
   "metadata": {
    "colab": {
     "base_uri": "https://localhost:8080/"
    },
    "executionInfo": {
     "elapsed": 345,
     "status": "ok",
     "timestamp": 1734238640136,
     "user": {
      "displayName": "JongHyun Kim",
      "userId": "04750869897114690179"
     },
     "user_tz": -540
    },
    "id": "tv9vHMDZNNs3",
    "outputId": "fa83d6bd-1bb9-4c2a-cd50-fa008717539f"
   },
   "outputs": [
    {
     "data": {
      "text/plain": [
       "Dataset MNIST\n",
       "    Number of datapoints: 60000\n",
       "    Root location: ./data/\n",
       "    Split: Train\n",
       "    StandardTransform\n",
       "Transform: Compose(    ToTensor())"
      ]
     },
     "execution_count": 6,
     "metadata": {},
     "output_type": "execute_result"
    }
   ],
   "source": [
    "train_set"
   ]
  },
  {
   "cell_type": "code",
   "execution_count": 7,
   "metadata": {
    "colab": {
     "base_uri": "https://localhost:8080/"
    },
    "executionInfo": {
     "elapsed": 394,
     "status": "ok",
     "timestamp": 1732750494759,
     "user": {
      "displayName": "JongHyun Kim",
      "userId": "04750869897114690179"
     },
     "user_tz": -540
    },
    "id": "MK3sK1t8Ov7Z",
    "outputId": "60d10f9e-8d9c-41df-e26f-159210dd505e"
   },
   "outputs": [
    {
     "data": {
      "text/plain": [
       "(torch.Size([60000, 28, 28]), torch.Tensor)"
      ]
     },
     "execution_count": 7,
     "metadata": {},
     "output_type": "execute_result"
    }
   ],
   "source": [
    "train_set.data.shape, type(train_set.data)"
   ]
  },
  {
   "cell_type": "code",
   "execution_count": 8,
   "metadata": {
    "colab": {
     "base_uri": "https://localhost:8080/"
    },
    "executionInfo": {
     "elapsed": 545,
     "status": "ok",
     "timestamp": 1734238647916,
     "user": {
      "displayName": "JongHyun Kim",
      "userId": "04750869897114690179"
     },
     "user_tz": -540
    },
    "id": "vEKzOpJpNPIS",
    "outputId": "d36961bb-3539-43cc-eac6-49e8f1535a92"
   },
   "outputs": [
    {
     "data": {
      "text/plain": [
       "Dataset MNIST\n",
       "    Number of datapoints: 10000\n",
       "    Root location: ./data/\n",
       "    Split: Test\n",
       "    StandardTransform\n",
       "Transform: Compose(    ToTensor())"
      ]
     },
     "execution_count": 8,
     "metadata": {},
     "output_type": "execute_result"
    }
   ],
   "source": [
    "valid_set"
   ]
  },
  {
   "cell_type": "code",
   "execution_count": 9,
   "metadata": {
    "colab": {
     "base_uri": "https://localhost:8080/"
    },
    "executionInfo": {
     "elapsed": 643,
     "status": "ok",
     "timestamp": 1732285032631,
     "user": {
      "displayName": "JongHyun Kim",
      "userId": "04750869897114690179"
     },
     "user_tz": -540
    },
    "id": "NBXFZLhmO9Ar",
    "outputId": "18e59053-16a0-41aa-9499-d4cd4e75df28"
   },
   "outputs": [
    {
     "data": {
      "text/plain": [
       "(torch.Size([10000, 28, 28]), torch.Tensor)"
      ]
     },
     "execution_count": 9,
     "metadata": {},
     "output_type": "execute_result"
    }
   ],
   "source": [
    "valid_set.data.shape, type(valid_set.data)"
   ]
  },
  {
   "cell_type": "markdown",
   "metadata": {
    "id": "34dQ8RKFNf4z"
   },
   "source": [
    "*Note*: The `Split` for `valid_set` is stated as `Test`, but we will be using the data for validation in our hands-on exercises. To learn more about the difference between `Train`, `Valid`, and `Test` datasets, please view [this article](https://kili-technology.com/training-data/training-validation-and-test-sets-how-to-split-machine-learning-data) by Kili."
   ]
  },
  {
   "cell_type": "markdown",
   "metadata": {
    "id": "-C_XCsFl2zf3"
   },
   "source": [
    "### 1.2.3 Exploring the MNIST Data"
   ]
  },
  {
   "cell_type": "markdown",
   "metadata": {
    "id": "ybZesgdF2zf3"
   },
   "source": [
    "Let's take the first x, y pair from `train_set` and review the data structures:"
   ]
  },
  {
   "cell_type": "code",
   "execution_count": 10,
   "metadata": {
    "colab": {
     "base_uri": "https://localhost:8080/"
    },
    "executionInfo": {
     "elapsed": 351,
     "status": "ok",
     "timestamp": 1734238778033,
     "user": {
      "displayName": "JongHyun Kim",
      "userId": "04750869897114690179"
     },
     "user_tz": -540
    },
    "id": "Vlgmf9cUr4_z",
    "outputId": "955970c3-51b5-4759-da0f-8b34a8c6a83a"
   },
   "outputs": [
    {
     "data": {
      "text/plain": [
       "tuple"
      ]
     },
     "execution_count": 10,
     "metadata": {},
     "output_type": "execute_result"
    }
   ],
   "source": [
    "type(train_set[0])"
   ]
  },
  {
   "cell_type": "code",
   "execution_count": 11,
   "metadata": {
    "colab": {
     "base_uri": "https://localhost:8080/"
    },
    "executionInfo": {
     "elapsed": 354,
     "status": "ok",
     "timestamp": 1734238766577,
     "user": {
      "displayName": "JongHyun Kim",
      "userId": "04750869897114690179"
     },
     "user_tz": -540
    },
    "id": "KcLpYEU1ageu",
    "outputId": "99248f1e-c3ee-4815-a0c3-871208795767"
   },
   "outputs": [
    {
     "data": {
      "text/plain": [
       "(torch.Size([1, 28, 28]), 5)"
      ]
     },
     "execution_count": 11,
     "metadata": {},
     "output_type": "execute_result"
    }
   ],
   "source": [
    "train_set[0][0].shape, train_set[0][1]"
   ]
  },
  {
   "cell_type": "code",
   "execution_count": 12,
   "metadata": {
    "id": "PKVmYF9V2zf3"
   },
   "outputs": [],
   "source": [
    "x_0_tensor, y_0 = train_set[0]"
   ]
  },
  {
   "cell_type": "markdown",
   "metadata": {},
   "source": []
  },
  {
   "cell_type": "code",
   "execution_count": 13,
   "metadata": {
    "colab": {
     "base_uri": "https://localhost:8080/",
     "height": 45
    },
    "executionInfo": {
     "elapsed": 362,
     "status": "ok",
     "timestamp": 1734238986088,
     "user": {
      "displayName": "JongHyun Kim",
      "userId": "04750869897114690179"
     },
     "user_tz": -540
    },
    "id": "uQs1NcBuKB3C",
    "outputId": "55e2cebd-b3e3-4b5a-8756-f12b5a2b03bd"
   },
   "outputs": [
    {
     "data": {
      "text/plain": [
       "tensor([[[0.0000, 0.0000, 0.0000, 0.0000, 0.0000, 0.0000, 0.0000, 0.0000,\n",
       "          0.0000, 0.0000, 0.0000, 0.0000, 0.0000, 0.0000, 0.0000, 0.0000,\n",
       "          0.0000, 0.0000, 0.0000, 0.0000, 0.0000, 0.0000, 0.0000, 0.0000,\n",
       "          0.0000, 0.0000, 0.0000, 0.0000],\n",
       "         [0.0000, 0.0000, 0.0000, 0.0000, 0.0000, 0.0000, 0.0000, 0.0000,\n",
       "          0.0000, 0.0000, 0.0000, 0.0000, 0.0000, 0.0000, 0.0000, 0.0000,\n",
       "          0.0000, 0.0000, 0.0000, 0.0000, 0.0000, 0.0000, 0.0000, 0.0000,\n",
       "          0.0000, 0.0000, 0.0000, 0.0000],\n",
       "         [0.0000, 0.0000, 0.0000, 0.0000, 0.0000, 0.0000, 0.0000, 0.0000,\n",
       "          0.0000, 0.0000, 0.0000, 0.0000, 0.0000, 0.0000, 0.0000, 0.0000,\n",
       "          0.0000, 0.0000, 0.0000, 0.0000, 0.0000, 0.0000, 0.0000, 0.0000,\n",
       "          0.0000, 0.0000, 0.0000, 0.0000],\n",
       "         [0.0000, 0.0000, 0.0000, 0.0000, 0.0000, 0.0000, 0.0000, 0.0000,\n",
       "          0.0000, 0.0000, 0.0000, 0.0000, 0.0000, 0.0000, 0.0000, 0.0000,\n",
       "          0.0000, 0.0000, 0.0000, 0.0000, 0.0000, 0.0000, 0.0000, 0.0000,\n",
       "          0.0000, 0.0000, 0.0000, 0.0000],\n",
       "         [0.0000, 0.0000, 0.0000, 0.0000, 0.0000, 0.0000, 0.0000, 0.0000,\n",
       "          0.0000, 0.0000, 0.0000, 0.0000, 0.0000, 0.0000, 0.0000, 0.0000,\n",
       "          0.0000, 0.0000, 0.0000, 0.0000, 0.0000, 0.0000, 0.0000, 0.0000,\n",
       "          0.0000, 0.0000, 0.0000, 0.0000],\n",
       "         [0.0000, 0.0000, 0.0000, 0.0000, 0.0000, 0.0000, 0.0000, 0.0000,\n",
       "          0.0000, 0.0000, 0.0000, 0.0000, 0.0118, 0.0706, 0.0706, 0.0706,\n",
       "          0.4941, 0.5333, 0.6863, 0.1020, 0.6510, 1.0000, 0.9686, 0.4980,\n",
       "          0.0000, 0.0000, 0.0000, 0.0000],\n",
       "         [0.0000, 0.0000, 0.0000, 0.0000, 0.0000, 0.0000, 0.0000, 0.0000,\n",
       "          0.1176, 0.1412, 0.3686, 0.6039, 0.6667, 0.9922, 0.9922, 0.9922,\n",
       "          0.9922, 0.9922, 0.8824, 0.6745, 0.9922, 0.9490, 0.7647, 0.2510,\n",
       "          0.0000, 0.0000, 0.0000, 0.0000],\n",
       "         [0.0000, 0.0000, 0.0000, 0.0000, 0.0000, 0.0000, 0.0000, 0.1922,\n",
       "          0.9333, 0.9922, 0.9922, 0.9922, 0.9922, 0.9922, 0.9922, 0.9922,\n",
       "          0.9922, 0.9843, 0.3647, 0.3216, 0.3216, 0.2196, 0.1529, 0.0000,\n",
       "          0.0000, 0.0000, 0.0000, 0.0000],\n",
       "         [0.0000, 0.0000, 0.0000, 0.0000, 0.0000, 0.0000, 0.0000, 0.0706,\n",
       "          0.8588, 0.9922, 0.9922, 0.9922, 0.9922, 0.9922, 0.7765, 0.7137,\n",
       "          0.9686, 0.9451, 0.0000, 0.0000, 0.0000, 0.0000, 0.0000, 0.0000,\n",
       "          0.0000, 0.0000, 0.0000, 0.0000],\n",
       "         [0.0000, 0.0000, 0.0000, 0.0000, 0.0000, 0.0000, 0.0000, 0.0000,\n",
       "          0.3137, 0.6118, 0.4196, 0.9922, 0.9922, 0.8039, 0.0431, 0.0000,\n",
       "          0.1686, 0.6039, 0.0000, 0.0000, 0.0000, 0.0000, 0.0000, 0.0000,\n",
       "          0.0000, 0.0000, 0.0000, 0.0000],\n",
       "         [0.0000, 0.0000, 0.0000, 0.0000, 0.0000, 0.0000, 0.0000, 0.0000,\n",
       "          0.0000, 0.0549, 0.0039, 0.6039, 0.9922, 0.3529, 0.0000, 0.0000,\n",
       "          0.0000, 0.0000, 0.0000, 0.0000, 0.0000, 0.0000, 0.0000, 0.0000,\n",
       "          0.0000, 0.0000, 0.0000, 0.0000],\n",
       "         [0.0000, 0.0000, 0.0000, 0.0000, 0.0000, 0.0000, 0.0000, 0.0000,\n",
       "          0.0000, 0.0000, 0.0000, 0.5451, 0.9922, 0.7451, 0.0078, 0.0000,\n",
       "          0.0000, 0.0000, 0.0000, 0.0000, 0.0000, 0.0000, 0.0000, 0.0000,\n",
       "          0.0000, 0.0000, 0.0000, 0.0000],\n",
       "         [0.0000, 0.0000, 0.0000, 0.0000, 0.0000, 0.0000, 0.0000, 0.0000,\n",
       "          0.0000, 0.0000, 0.0000, 0.0431, 0.7451, 0.9922, 0.2745, 0.0000,\n",
       "          0.0000, 0.0000, 0.0000, 0.0000, 0.0000, 0.0000, 0.0000, 0.0000,\n",
       "          0.0000, 0.0000, 0.0000, 0.0000],\n",
       "         [0.0000, 0.0000, 0.0000, 0.0000, 0.0000, 0.0000, 0.0000, 0.0000,\n",
       "          0.0000, 0.0000, 0.0000, 0.0000, 0.1373, 0.9451, 0.8824, 0.6275,\n",
       "          0.4235, 0.0039, 0.0000, 0.0000, 0.0000, 0.0000, 0.0000, 0.0000,\n",
       "          0.0000, 0.0000, 0.0000, 0.0000],\n",
       "         [0.0000, 0.0000, 0.0000, 0.0000, 0.0000, 0.0000, 0.0000, 0.0000,\n",
       "          0.0000, 0.0000, 0.0000, 0.0000, 0.0000, 0.3176, 0.9412, 0.9922,\n",
       "          0.9922, 0.4667, 0.0980, 0.0000, 0.0000, 0.0000, 0.0000, 0.0000,\n",
       "          0.0000, 0.0000, 0.0000, 0.0000],\n",
       "         [0.0000, 0.0000, 0.0000, 0.0000, 0.0000, 0.0000, 0.0000, 0.0000,\n",
       "          0.0000, 0.0000, 0.0000, 0.0000, 0.0000, 0.0000, 0.1765, 0.7294,\n",
       "          0.9922, 0.9922, 0.5882, 0.1059, 0.0000, 0.0000, 0.0000, 0.0000,\n",
       "          0.0000, 0.0000, 0.0000, 0.0000],\n",
       "         [0.0000, 0.0000, 0.0000, 0.0000, 0.0000, 0.0000, 0.0000, 0.0000,\n",
       "          0.0000, 0.0000, 0.0000, 0.0000, 0.0000, 0.0000, 0.0000, 0.0627,\n",
       "          0.3647, 0.9882, 0.9922, 0.7333, 0.0000, 0.0000, 0.0000, 0.0000,\n",
       "          0.0000, 0.0000, 0.0000, 0.0000],\n",
       "         [0.0000, 0.0000, 0.0000, 0.0000, 0.0000, 0.0000, 0.0000, 0.0000,\n",
       "          0.0000, 0.0000, 0.0000, 0.0000, 0.0000, 0.0000, 0.0000, 0.0000,\n",
       "          0.0000, 0.9765, 0.9922, 0.9765, 0.2510, 0.0000, 0.0000, 0.0000,\n",
       "          0.0000, 0.0000, 0.0000, 0.0000],\n",
       "         [0.0000, 0.0000, 0.0000, 0.0000, 0.0000, 0.0000, 0.0000, 0.0000,\n",
       "          0.0000, 0.0000, 0.0000, 0.0000, 0.0000, 0.0000, 0.1804, 0.5098,\n",
       "          0.7176, 0.9922, 0.9922, 0.8118, 0.0078, 0.0000, 0.0000, 0.0000,\n",
       "          0.0000, 0.0000, 0.0000, 0.0000],\n",
       "         [0.0000, 0.0000, 0.0000, 0.0000, 0.0000, 0.0000, 0.0000, 0.0000,\n",
       "          0.0000, 0.0000, 0.0000, 0.0000, 0.1529, 0.5804, 0.8980, 0.9922,\n",
       "          0.9922, 0.9922, 0.9804, 0.7137, 0.0000, 0.0000, 0.0000, 0.0000,\n",
       "          0.0000, 0.0000, 0.0000, 0.0000],\n",
       "         [0.0000, 0.0000, 0.0000, 0.0000, 0.0000, 0.0000, 0.0000, 0.0000,\n",
       "          0.0000, 0.0000, 0.0941, 0.4471, 0.8667, 0.9922, 0.9922, 0.9922,\n",
       "          0.9922, 0.7882, 0.3059, 0.0000, 0.0000, 0.0000, 0.0000, 0.0000,\n",
       "          0.0000, 0.0000, 0.0000, 0.0000],\n",
       "         [0.0000, 0.0000, 0.0000, 0.0000, 0.0000, 0.0000, 0.0000, 0.0000,\n",
       "          0.0902, 0.2588, 0.8353, 0.9922, 0.9922, 0.9922, 0.9922, 0.7765,\n",
       "          0.3176, 0.0078, 0.0000, 0.0000, 0.0000, 0.0000, 0.0000, 0.0000,\n",
       "          0.0000, 0.0000, 0.0000, 0.0000],\n",
       "         [0.0000, 0.0000, 0.0000, 0.0000, 0.0000, 0.0000, 0.0706, 0.6706,\n",
       "          0.8588, 0.9922, 0.9922, 0.9922, 0.9922, 0.7647, 0.3137, 0.0353,\n",
       "          0.0000, 0.0000, 0.0000, 0.0000, 0.0000, 0.0000, 0.0000, 0.0000,\n",
       "          0.0000, 0.0000, 0.0000, 0.0000],\n",
       "         [0.0000, 0.0000, 0.0000, 0.0000, 0.2157, 0.6745, 0.8863, 0.9922,\n",
       "          0.9922, 0.9922, 0.9922, 0.9569, 0.5216, 0.0431, 0.0000, 0.0000,\n",
       "          0.0000, 0.0000, 0.0000, 0.0000, 0.0000, 0.0000, 0.0000, 0.0000,\n",
       "          0.0000, 0.0000, 0.0000, 0.0000],\n",
       "         [0.0000, 0.0000, 0.0000, 0.0000, 0.5333, 0.9922, 0.9922, 0.9922,\n",
       "          0.8314, 0.5294, 0.5176, 0.0627, 0.0000, 0.0000, 0.0000, 0.0000,\n",
       "          0.0000, 0.0000, 0.0000, 0.0000, 0.0000, 0.0000, 0.0000, 0.0000,\n",
       "          0.0000, 0.0000, 0.0000, 0.0000],\n",
       "         [0.0000, 0.0000, 0.0000, 0.0000, 0.0000, 0.0000, 0.0000, 0.0000,\n",
       "          0.0000, 0.0000, 0.0000, 0.0000, 0.0000, 0.0000, 0.0000, 0.0000,\n",
       "          0.0000, 0.0000, 0.0000, 0.0000, 0.0000, 0.0000, 0.0000, 0.0000,\n",
       "          0.0000, 0.0000, 0.0000, 0.0000],\n",
       "         [0.0000, 0.0000, 0.0000, 0.0000, 0.0000, 0.0000, 0.0000, 0.0000,\n",
       "          0.0000, 0.0000, 0.0000, 0.0000, 0.0000, 0.0000, 0.0000, 0.0000,\n",
       "          0.0000, 0.0000, 0.0000, 0.0000, 0.0000, 0.0000, 0.0000, 0.0000,\n",
       "          0.0000, 0.0000, 0.0000, 0.0000],\n",
       "         [0.0000, 0.0000, 0.0000, 0.0000, 0.0000, 0.0000, 0.0000, 0.0000,\n",
       "          0.0000, 0.0000, 0.0000, 0.0000, 0.0000, 0.0000, 0.0000, 0.0000,\n",
       "          0.0000, 0.0000, 0.0000, 0.0000, 0.0000, 0.0000, 0.0000, 0.0000,\n",
       "          0.0000, 0.0000, 0.0000, 0.0000]]])"
      ]
     },
     "execution_count": 13,
     "metadata": {},
     "output_type": "execute_result"
    }
   ],
   "source": [
    "x_0_tensor"
   ]
  },
  {
   "cell_type": "code",
   "execution_count": 14,
   "metadata": {},
   "outputs": [
    {
     "data": {
      "text/plain": [
       "(tensor(0.), tensor(1.))"
      ]
     },
     "execution_count": 14,
     "metadata": {},
     "output_type": "execute_result"
    }
   ],
   "source": [
    "x_0_tensor.min(), x_0_tensor.max()"
   ]
  },
  {
   "cell_type": "code",
   "execution_count": 15,
   "metadata": {
    "colab": {
     "base_uri": "https://localhost:8080/"
    },
    "executionInfo": {
     "elapsed": 272,
     "status": "ok",
     "timestamp": 1732750551590,
     "user": {
      "displayName": "JongHyun Kim",
      "userId": "04750869897114690179"
     },
     "user_tz": -540
    },
    "id": "ZxYcx-UtPRzr",
    "outputId": "e86515cb-113e-44eb-9969-2c4fac119835"
   },
   "outputs": [
    {
     "data": {
      "text/plain": [
       "5"
      ]
     },
     "execution_count": 15,
     "metadata": {},
     "output_type": "execute_result"
    }
   ],
   "source": [
    "y_0"
   ]
  },
  {
   "cell_type": "code",
   "execution_count": 16,
   "metadata": {
    "colab": {
     "base_uri": "https://localhost:8080/",
     "height": 186
    },
    "executionInfo": {
     "elapsed": 472,
     "status": "ok",
     "timestamp": 1732285130294,
     "user": {
      "displayName": "JongHyun Kim",
      "userId": "04750869897114690179"
     },
     "user_tz": -540
    },
    "id": "EmkGpJojKLRh",
    "outputId": "6e740b6a-d0a6-403d-a26b-f2eb4dda7267"
   },
   "outputs": [
    {
     "data": {
      "text/plain": [
       "torch.Tensor"
      ]
     },
     "execution_count": 16,
     "metadata": {},
     "output_type": "execute_result"
    }
   ],
   "source": [
    "type(x_0_tensor)"
   ]
  },
  {
   "cell_type": "code",
   "execution_count": 17,
   "metadata": {},
   "outputs": [
    {
     "data": {
      "text/plain": [
       "device(type='cpu')"
      ]
     },
     "execution_count": 17,
     "metadata": {},
     "output_type": "execute_result"
    }
   ],
   "source": [
    "x_0_tensor.device"
   ]
  },
  {
   "cell_type": "markdown",
   "metadata": {},
   "source": [
    "Sometimes, it can be hard to interpret so many numbers. Thankfully, TorchVision can convert `C x H x W` tensors back into a PIL image with the [to_pil_image](https://pytorch.org/vision/main/generated/torchvision.transforms.functional.to_pil_image.html) function."
   ]
  },
  {
   "cell_type": "code",
   "execution_count": 18,
   "metadata": {},
   "outputs": [],
   "source": [
    "# Tensor를 PIL 이미지로 변환\n",
    "# PIL.Image 객체이며, 픽셀 값은 uint8, 즉 0~255 범위로 변환\n",
    "x_0 = F.to_pil_image(x_0_tensor)"
   ]
  },
  {
   "cell_type": "code",
   "execution_count": 19,
   "metadata": {
    "colab": {
     "base_uri": "https://localhost:8080/",
     "height": 470
    },
    "executionInfo": {
     "elapsed": 600,
     "status": "ok",
     "timestamp": 1734239152353,
     "user": {
      "displayName": "JongHyun Kim",
      "userId": "04750869897114690179"
     },
     "user_tz": -540
    },
    "id": "GPtvhzBIageu",
    "outputId": "8bf21ce4-8eb2-4def-a0c6-18b2de35f88f"
   },
   "outputs": [
    {
     "data": {
      "text/plain": [
       "<matplotlib.image.AxesImage at 0x1da4ad28160>"
      ]
     },
     "execution_count": 19,
     "metadata": {},
     "output_type": "execute_result"
    },
    {
     "data": {
      "image/png": "[encoded data removed]",
      "text/plain": [
       "<Figure size 640x480 with 1 Axes>"
      ]
     },
     "metadata": {},
     "output_type": "display_data"
    }
   ],
   "source": [
    "plt.title(f\"Label: {y_0}\")\n",
    "plt.imshow(x_0, cmap='gray')"
   ]
  },
  {
   "cell_type": "code",
   "execution_count": 20,
   "metadata": {
    "colab": {
     "base_uri": "https://localhost:8080/"
    },
    "executionInfo": {
     "elapsed": 318,
     "status": "ok",
     "timestamp": 1734239444724,
     "user": {
      "displayName": "JongHyun Kim",
      "userId": "04750869897114690179"
     },
     "user_tz": -540
    },
    "id": "fs0Ot_Sas2M2",
    "outputId": "f868574b-0a83-4718-ef85-4bae6f47125b"
   },
   "outputs": [
    {
     "name": "stdout",
     "output_type": "stream",
     "text": [
      "   0   0   0   0   0   0   0   0   0   0   0   0   0   0   0   0   0   0   0   0   0   0   0   0   0   0   0   0\n",
      "   0   0   0   0   0   0   0   0   0   0   0   0   0   0   0   0   0   0   0   0   0   0   0   0   0   0   0   0\n",
      "   0   0   0   0   0   0   0   0   0   0   0   0   0   0   0   0   0   0   0   0   0   0   0   0   0   0   0   0\n",
      "   0   0   0   0   0   0   0   0   0   0   0   0   0   0   0   0   0   0   0   0   0   0   0   0   0   0   0   0\n",
      "   0   0   0   0   0   0   0   0   0   0   0   0   0   0   0   0   0   0   0   0   0   0   0   0   0   0   0   0\n",
      "   0   0   0   0   0   0   0   0   0   0   0   0   3  18  18  18 126 136 175  26 166 255 247 127   0   0   0   0\n",
      "   0   0   0   0   0   0   0   0  30  36  94 154 170 253 253 253 253 253 225 172 253 242 195  64   0   0   0   0\n",
      "   0   0   0   0   0   0   0  49 238 253 253 253 253 253 253 253 253 251  93  82  82  56  39   0   0   0   0   0\n",
      "   0   0   0   0   0   0   0  18 219 253 253 253 253 253 198 182 247 241   0   0   0   0   0   0   0   0   0   0\n",
      "   0   0   0   0   0   0   0   0  80 156 107 253 253 205  11   0  43 154   0   0   0   0   0   0   0   0   0   0\n",
      "   0   0   0   0   0   0   0   0   0  14   1 154 253  90   0   0   0   0   0   0   0   0   0   0   0   0   0   0\n",
      "   0   0   0   0   0   0   0   0   0   0   0 139 253 190   2   0   0   0   0   0   0   0   0   0   0   0   0   0\n",
      "   0   0   0   0   0   0   0   0   0   0   0  11 190 253  70   0   0   0   0   0   0   0   0   0   0   0   0   0\n",
      "   0   0   0   0   0   0   0   0   0   0   0   0  35 241 225 160 108   1   0   0   0   0   0   0   0   0   0   0\n",
      "   0   0   0   0   0   0   0   0   0   0   0   0   0  81 240 253 253 119  25   0   0   0   0   0   0   0   0   0\n",
      "   0   0   0   0   0   0   0   0   0   0   0   0   0   0  45 186 253 253 150  27   0   0   0   0   0   0   0   0\n",
      "   0   0   0   0   0   0   0   0   0   0   0   0   0   0   0  16  93 252 253 187   0   0   0   0   0   0   0   0\n",
      "   0   0   0   0   0   0   0   0   0   0   0   0   0   0   0   0   0 249 253 249  64   0   0   0   0   0   0   0\n",
      "   0   0   0   0   0   0   0   0   0   0   0   0   0   0  46 130 183 253 253 207   2   0   0   0   0   0   0   0\n",
      "   0   0   0   0   0   0   0   0   0   0   0   0  39 148 229 253 253 253 250 182   0   0   0   0   0   0   0   0\n",
      "   0   0   0   0   0   0   0   0   0   0  24 114 221 253 253 253 253 201  78   0   0   0   0   0   0   0   0   0\n",
      "   0   0   0   0   0   0   0   0  23  66 213 253 253 253 253 198  81   2   0   0   0   0   0   0   0   0   0   0\n",
      "   0   0   0   0   0   0  18 171 219 253 253 253 253 195  80   9   0   0   0   0   0   0   0   0   0   0   0   0\n",
      "   0   0   0   0  55 172 226 253 253 253 253 244 133  11   0   0   0   0   0   0   0   0   0   0   0   0   0   0\n",
      "   0   0   0   0 136 253 253 253 212 135 132  16   0   0   0   0   0   0   0   0   0   0   0   0   0   0   0   0\n",
      "   0   0   0   0   0   0   0   0   0   0   0   0   0   0   0   0   0   0   0   0   0   0   0   0   0   0   0   0\n",
      "   0   0   0   0   0   0   0   0   0   0   0   0   0   0   0   0   0   0   0   0   0   0   0   0   0   0   0   0\n",
      "   0   0   0   0   0   0   0   0   0   0   0   0   0   0   0   0   0   0   0   0   0   0   0   0   0   0   0   0\n",
      "5\n"
     ]
    }
   ],
   "source": [
    "img = x_0\n",
    "for i in range(28):\n",
    "  for j in range(28):\n",
    "    print('{:4d}'.format(img.getpixel((j, i))), end='')\n",
    "  print()\n",
    "\n",
    "print(y_0)"
   ]
  },
  {
   "cell_type": "markdown",
   "metadata": {
    "id": "CgfAqJKmVvuH"
   },
   "source": [
    "Is this a 5 or a poorly written 3? We can view the corresponding label to be sure."
   ]
  },
  {
   "cell_type": "code",
   "execution_count": 21,
   "metadata": {
    "colab": {
     "base_uri": "https://localhost:8080/"
    },
    "executionInfo": {
     "elapsed": 34,
     "status": "ok",
     "timestamp": 1731561452258,
     "user": {
      "displayName": "JongHyun Kim",
      "userId": "04750869897114690179"
     },
     "user_tz": -540
    },
    "id": "QSFkrqaQ2zf4",
    "outputId": "2f3dcfe8-f41c-427d-ea17-6e4dd99f75f3"
   },
   "outputs": [
    {
     "data": {
      "text/plain": [
       "5"
      ]
     },
     "execution_count": 21,
     "metadata": {},
     "output_type": "execute_result"
    }
   ],
   "source": [
    "y_0"
   ]
  },
  {
   "cell_type": "code",
   "execution_count": 22,
   "metadata": {
    "colab": {
     "base_uri": "https://localhost:8080/"
    },
    "executionInfo": {
     "elapsed": 31,
     "status": "ok",
     "timestamp": 1731561452258,
     "user": {
      "displayName": "JongHyun Kim",
      "userId": "04750869897114690179"
     },
     "user_tz": -540
    },
    "id": "Ne6enO2sNE55",
    "outputId": "521db873-7de3-4f89-d7aa-8d087d248a3a"
   },
   "outputs": [
    {
     "data": {
      "text/plain": [
       "int"
      ]
     },
     "execution_count": 22,
     "metadata": {},
     "output_type": "execute_result"
    }
   ],
   "source": [
    "type(y_0)"
   ]
  },
  {
   "cell_type": "code",
   "execution_count": 23,
   "metadata": {
    "colab": {
     "base_uri": "https://localhost:8080/",
     "height": 452
    },
    "executionInfo": {
     "elapsed": 2129,
     "status": "ok",
     "timestamp": 1732285234735,
     "user": {
      "displayName": "JongHyun Kim",
      "userId": "04750869897114690179"
     },
     "user_tz": -540
    },
    "id": "9t217MohPdvy",
    "outputId": "617d70ad-a5d6-4ac5-ff42-c18cb07add9f"
   },
   "outputs": [
    {
     "data": {
      "image/png": "[encoded data removed]",
      "text/plain": [
       "<Figure size 640x480 with 1 Axes>"
      ]
     },
     "metadata": {},
     "output_type": "display_data"
    }
   ],
   "source": [
    "import matplotlib.pyplot as plt\n",
    "fig, ax = plt.subplots()\n",
    "ax.imshow(train_set.data[0], cmap='gray')\n",
    "\n",
    "for i in range(train_set.data[0].shape[0]):\n",
    "    for j in range(train_set.data[0].shape[1]):\n",
    "        c = 1 if train_set.data[0][i, j].item() < 128 else 0\n",
    "        ax.text(j, i, str(train_set.data[0][i, j].item()), color=(c, c, c), ha='center', va='center',fontsize=5)\n",
    "\n",
    "plt.title('%i' % train_set.targets[0])\n",
    "plt.show()"
   ]
  },
  {
   "cell_type": "markdown",
   "metadata": {
    "id": "sZMH_LNxage1"
   },
   "source": [
    "By default, a tensor is processed with a [CPU](https://www.arm.com/glossary/cpu)."
   ]
  },
  {
   "cell_type": "code",
   "execution_count": 24,
   "metadata": {
    "colab": {
     "base_uri": "https://localhost:8080/"
    },
    "executionInfo": {
     "elapsed": 343,
     "status": "ok",
     "timestamp": 1734239627115,
     "user": {
      "displayName": "JongHyun Kim",
      "userId": "04750869897114690179"
     },
     "user_tz": -540
    },
    "id": "MUDWAzz386wC",
    "outputId": "d2f29faa-bd5a-4092-a57b-a79e878ce83e"
   },
   "outputs": [
    {
     "data": {
      "text/plain": [
       "device(type='cpu')"
      ]
     },
     "execution_count": 24,
     "metadata": {},
     "output_type": "execute_result"
    }
   ],
   "source": [
    "x_0_tensor.device"
   ]
  },
  {
   "cell_type": "markdown",
   "metadata": {
    "id": "QeXkUMnMage2"
   },
   "source": [
    "To move it to a GPU, we can use the `.cuda` method."
   ]
  },
  {
   "cell_type": "code",
   "execution_count": 25,
   "metadata": {
    "colab": {
     "base_uri": "https://localhost:8080/"
    },
    "executionInfo": {
     "elapsed": 537,
     "status": "ok",
     "timestamp": 1732751246018,
     "user": {
      "displayName": "JongHyun Kim",
      "userId": "04750869897114690179"
     },
     "user_tz": -540
    },
    "id": "PtVbrIK_8bwz",
    "outputId": "27c611fa-f31c-44ce-d0d4-e2651aa46bb7"
   },
   "outputs": [
    {
     "data": {
      "text/plain": [
       "device(type='cuda', index=0)"
      ]
     },
     "execution_count": 25,
     "metadata": {},
     "output_type": "execute_result"
    }
   ],
   "source": [
    "x_0_gpu = x_0_tensor.cuda()\n",
    "x_0_gpu.device"
   ]
  },
  {
   "cell_type": "markdown",
   "metadata": {
    "id": "z0LK58dbage2"
   },
   "source": [
    "The `.cuda` method will fail if a GPU is not recognized by PyTorch. In order to make our code flexible, we can send our tensor `to` the `device` we identified at the start of this notebook. This way, our code will run much faster if a GPU is available, but the code will not break if there is no available GPU."
   ]
  },
  {
   "cell_type": "code",
   "execution_count": 26,
   "metadata": {
    "colab": {
     "base_uri": "https://localhost:8080/"
    },
    "executionInfo": {
     "elapsed": 354,
     "status": "ok",
     "timestamp": 1734239808830,
     "user": {
      "displayName": "JongHyun Kim",
      "userId": "04750869897114690179"
     },
     "user_tz": -540
    },
    "id": "_qSz_fcP8swy",
    "outputId": "7900ab00-8dac-438e-ca11-276959a9e915"
   },
   "outputs": [
    {
     "data": {
      "text/plain": [
       "device(type='cuda', index=0)"
      ]
     },
     "execution_count": 26,
     "metadata": {},
     "output_type": "execute_result"
    }
   ],
   "source": [
    "x_0_tensor.to(device).device"
   ]
  },
  {
   "cell_type": "markdown",
   "metadata": {
    "id": "jvNXPQW_age2"
   },
   "source": [
    "## 1.4 Preparing the Data for Training"
   ]
  },
  {
   "cell_type": "markdown",
   "metadata": {
    "id": "mG_g3l3Rage3"
   },
   "source": [
    "Earlier, we created a `trans` variable to convert an image to a tensor. [Transforms](https://pytorch.org/vision/stable/transforms.html) are a group of torchvision functions that can be used to transform a dataset."
   ]
  },
  {
   "cell_type": "markdown",
   "metadata": {
    "id": "cEbJUgsSage4"
   },
   "source": [
    "### 1.4.2 DataLoaders"
   ]
  },
  {
   "cell_type": "markdown",
   "metadata": {
    "id": "JPyHxR9Lage4"
   },
   "source": [
    "If our dataset is a deck of flash cards, a [DataLoader](https://pytorch.org/tutorials/beginner/basics/data_tutorial.html#preparing-your-data-for-training-with-dataloaders) defines how we pull cards from the deck to train an AI model. We could show our models the entire dataset at once. Not only does this take a lot of computational resources, but [research shows](https://arxiv.org/pdf/1804.07612) using a smaller batch of data is more efficient for model training.\n",
    "\n",
    "For example, if our `batch_size` is 32, we will train our model by shuffling the deck and drawing 32 cards. We do not need to shuffle for validation as the model is not learning, but we will still use a `batch_size` to prevent memory errors.\n",
    "\n",
    "The batch size is something the model developer decides, and the best value will depend on the problem being solved. Research shows 32 or 64 is sufficient for many machine learning problems and is the default in some machine learning frameworks, so we will use 32 here."
   ]
  },
  {
   "cell_type": "code",
   "execution_count": 27,
   "metadata": {
    "id": "vhfKSYKCpHxf"
   },
   "outputs": [],
   "source": [
    "batch_size = 32\n",
    "\n",
    "train_loader = DataLoader(train_set, batch_size=batch_size, shuffle=True)\n",
    "valid_loader = DataLoader(valid_set, batch_size=batch_size)"
   ]
  },
  {
   "cell_type": "code",
   "execution_count": 28,
   "metadata": {
    "colab": {
     "base_uri": "https://localhost:8080/"
    },
    "executionInfo": {
     "elapsed": 240,
     "status": "ok",
     "timestamp": 1734349324990,
     "user": {
      "displayName": "JongHyun Kim",
      "userId": "04750869897114690179"
     },
     "user_tz": -540
    },
    "id": "gHQslzq6RBmq",
    "outputId": "5ea7bc6c-2ed1-40f2-c3bb-137705e38c94"
   },
   "outputs": [
    {
     "data": {
      "text/plain": [
       "(torch.Size([32, 1, 28, 28]), torch.Size([32]))"
      ]
     },
     "execution_count": 28,
     "metadata": {},
     "output_type": "execute_result"
    }
   ],
   "source": [
    "dataiter = iter(train_loader)\n",
    "images, labels = next(dataiter)\n",
    "images.shape, labels.shape"
   ]
  },
  {
   "cell_type": "code",
   "execution_count": 29,
   "metadata": {
    "colab": {
     "base_uri": "https://localhost:8080/"
    },
    "executionInfo": {
     "elapsed": 236,
     "status": "ok",
     "timestamp": 1734255436353,
     "user": {
      "displayName": "JongHyun Kim",
      "userId": "04750869897114690179"
     },
     "user_tz": -540
    },
    "id": "JZ915K1Nage4",
    "outputId": "c99687c7-36b2-4af5-8eae-30a4b23f4ac8"
   },
   "outputs": [
    {
     "name": "stdout",
     "output_type": "stream",
     "text": [
      "x_train: torch.Size([32, 1, 28, 28]) type: torch.FloatTensor\n",
      "y_train: torch.Size([32]) type: torch.LongTensor\n"
     ]
    }
   ],
   "source": [
    "for (x, y) in train_loader:  # loader에서 한번에 batch 크기(32개) 씩 공급\n",
    "    print('x_train:', x.size(), 'type:', x.type())\n",
    "    print('y_train:', y.size(), 'type:', y.type())\n",
    "    break"
   ]
  },
  {
   "cell_type": "code",
   "execution_count": 30,
   "metadata": {
    "colab": {
     "base_uri": "https://localhost:8080/"
    },
    "executionInfo": {
     "elapsed": 412,
     "status": "ok",
     "timestamp": 1734240127077,
     "user": {
      "displayName": "JongHyun Kim",
      "userId": "04750869897114690179"
     },
     "user_tz": -540
    },
    "id": "9muGMIm8w_0i",
    "outputId": "42081c35-329b-4174-915d-994d494a5319"
   },
   "outputs": [
    {
     "data": {
      "text/plain": [
       "torch.Size([60000, 28, 28])"
      ]
     },
     "execution_count": 30,
     "metadata": {},
     "output_type": "execute_result"
    }
   ],
   "source": [
    "train_loader.dataset.data.shape"
   ]
  },
  {
   "cell_type": "code",
   "execution_count": 31,
   "metadata": {
    "colab": {
     "base_uri": "https://localhost:8080/"
    },
    "executionInfo": {
     "elapsed": 573,
     "status": "ok",
     "timestamp": 1734240151247,
     "user": {
      "displayName": "JongHyun Kim",
      "userId": "04750869897114690179"
     },
     "user_tz": -540
    },
    "id": "OzE5q5vFxH6h",
    "outputId": "8a90c4c3-7375-4c9e-d029-c1fc34a7cb40"
   },
   "outputs": [
    {
     "data": {
      "text/plain": [
       "torch.Size([60000])"
      ]
     },
     "execution_count": 31,
     "metadata": {},
     "output_type": "execute_result"
    }
   ],
   "source": [
    "train_loader.dataset.targets.shape"
   ]
  },
  {
   "cell_type": "code",
   "execution_count": 32,
   "metadata": {
    "colab": {
     "base_uri": "https://localhost:8080/"
    },
    "executionInfo": {
     "elapsed": 6,
     "status": "ok",
     "timestamp": 1734240360321,
     "user": {
      "displayName": "JongHyun Kim",
      "userId": "04750869897114690179"
     },
     "user_tz": -540
    },
    "id": "O4g4PDe-xOgq",
    "outputId": "8e802447-2f08-4486-9275-35436533a82a"
   },
   "outputs": [
    {
     "data": {
      "text/plain": [
       "32"
      ]
     },
     "execution_count": 32,
     "metadata": {},
     "output_type": "execute_result"
    }
   ],
   "source": [
    "train_loader.batch_sampler.batch_size"
   ]
  },
  {
   "cell_type": "code",
   "execution_count": 33,
   "metadata": {
    "colab": {
     "base_uri": "https://localhost:8080/"
    },
    "executionInfo": {
     "elapsed": 335,
     "status": "ok",
     "timestamp": 1734240094221,
     "user": {
      "displayName": "JongHyun Kim",
      "userId": "04750869897114690179"
     },
     "user_tz": -540
    },
    "id": "xVkHzPigw7Bo",
    "outputId": "a09c1756-0ea3-4e50-9239-7a34aa1c468c"
   },
   "outputs": [
    {
     "name": "stdout",
     "output_type": "stream",
     "text": [
      "x_valid: torch.Size([32, 1, 28, 28]) type: torch.FloatTensor\n",
      "y_valid: torch.Size([32]) type: torch.LongTensor\n"
     ]
    }
   ],
   "source": [
    "for (x, y) in valid_loader:\n",
    "    print('x_valid:', x.size(), 'type:', x.type())\n",
    "    print('y_valid:', y.size(), 'type:', y.type())\n",
    "    break"
   ]
  },
  {
   "cell_type": "markdown",
   "metadata": {
    "id": "dsy_q-SXage4"
   },
   "source": [
    "## 1.5 Creating the Model"
   ]
  },
  {
   "cell_type": "markdown",
   "metadata": {
    "id": "6tuTe9-qage4"
   },
   "source": [
    "It's time to build the model! Neural networks are composed of layers where each layer performs a mathematical operation on the data it receives before passing it to the next layer. To start, we will create a \"Hello World\" level model made from 4 components:\n",
    "\n",
    "1. A [Flatten](https://pytorch.org/docs/stable/generated/torch.nn.Flatten.html) used to convert n-dimensional data into a vector.\n",
    "2. An input layer, the first layer of neurons\n",
    "3. A hidden layer, another layor of neurons \"hidden\" between the input and output\n",
    "4. An output layer, the last set of neurons which returns the final prediction from the model\n",
    "\n",
    "More information about these layers is available in [this blog post](https://medium.com/@sarita_68521/basic-understanding-of-neural-network-structure-eecc8f149a23) by Sarita.\n",
    "\n",
    "Let's create a `layers` variable to hold our list of layers."
   ]
  },
  {
   "cell_type": "code",
   "execution_count": 60,
   "metadata": {
    "colab": {
     "base_uri": "https://localhost:8080/"
    },
    "executionInfo": {
     "elapsed": 218,
     "status": "ok",
     "timestamp": 1734255538187,
     "user": {
      "displayName": "JongHyun Kim",
      "userId": "04750869897114690179"
     },
     "user_tz": -540
    },
    "id": "y_7pXyDSage5",
    "outputId": "c6c463c2-240e-4e16-dd59-c3f68081744e"
   },
   "outputs": [
    {
     "data": {
      "text/plain": [
       "[]"
      ]
     },
     "execution_count": 60,
     "metadata": {},
     "output_type": "execute_result"
    }
   ],
   "source": [
    "layers = []\n",
    "layers"
   ]
  },
  {
   "cell_type": "markdown",
   "metadata": {
    "id": "BZW0sUqbage5"
   },
   "source": [
    "### 1.5.1 Flattening the Image"
   ]
  },
  {
   "cell_type": "markdown",
   "metadata": {
    "id": "jpoQRceOage5"
   },
   "source": [
    "When we looked at the shape of our data above, we saw the images had 3 dimensions: `C x H x W`. To flatten an image means to combine all of these images into 1 dimension. Let's say we have a tensor like the one below. Try running the code cell to see what it looks like before and after being flattened."
   ]
  },
  {
   "cell_type": "code",
   "execution_count": 61,
   "metadata": {
    "colab": {
     "base_uri": "https://localhost:8080/"
    },
    "executionInfo": {
     "elapsed": 206,
     "status": "ok",
     "timestamp": 1734255751113,
     "user": {
      "displayName": "JongHyun Kim",
      "userId": "04750869897114690179"
     },
     "user_tz": -540
    },
    "id": "opxHfu8Dage6",
    "outputId": "c9546ba6-8728-4e6d-e95f-d01a41b66baa"
   },
   "outputs": [
    {
     "name": "stdout",
     "output_type": "stream",
     "text": [
      "tensor([[1, 2, 3],\n",
      "        [4, 5, 6],\n",
      "        [7, 8, 9]])\n",
      "torch.Size([3, 3])\n"
     ]
    }
   ],
   "source": [
    "test_matrix = torch.tensor(\n",
    "    [[1, 2, 3],\n",
    "     [4, 5, 6],\n",
    "     [7, 8, 9]]\n",
    ")\n",
    "print(test_matrix)\n",
    "print(test_matrix.shape)"
   ]
  },
  {
   "cell_type": "code",
   "execution_count": 62,
   "metadata": {
    "colab": {
     "base_uri": "https://localhost:8080/"
    },
    "executionInfo": {
     "elapsed": 228,
     "status": "ok",
     "timestamp": 1734255700876,
     "user": {
      "displayName": "JongHyun Kim",
      "userId": "04750869897114690179"
     },
     "user_tz": -540
    },
    "id": "Ji3RHXmXage6",
    "outputId": "1a7e7c77-2f32-4106-a282-ac8e7e1086fa"
   },
   "outputs": [
    {
     "data": {
      "text/plain": [
       "tensor([[1, 2, 3],\n",
       "        [4, 5, 6],\n",
       "        [7, 8, 9]])"
      ]
     },
     "execution_count": 62,
     "metadata": {},
     "output_type": "execute_result"
    }
   ],
   "source": [
    "nn.Flatten()(test_matrix)"
   ]
  },
  {
   "cell_type": "code",
   "execution_count": 63,
   "metadata": {
    "colab": {
     "base_uri": "https://localhost:8080/"
    },
    "executionInfo": {
     "elapsed": 235,
     "status": "ok",
     "timestamp": 1734255779442,
     "user": {
      "displayName": "JongHyun Kim",
      "userId": "04750869897114690179"
     },
     "user_tz": -540
    },
    "id": "7l-17N5uy0TM",
    "outputId": "b198bb2c-5c8b-4e80-c3bf-9a49a35ed6ae"
   },
   "outputs": [
    {
     "data": {
      "text/plain": [
       "torch.Size([3, 3])"
      ]
     },
     "execution_count": 63,
     "metadata": {},
     "output_type": "execute_result"
    }
   ],
   "source": [
    "nn.Flatten()(test_matrix).shape"
   ]
  },
  {
   "cell_type": "markdown",
   "metadata": {
    "id": "PRg5PEqVage6"
   },
   "source": [
    "Nothing happened? That's because neural networks expect to recieve a batch of data. Currently, the Flatten layer sees three vectors as opposed to one 2d matrix. To fix this, we can \"batch\" our data by adding an extra pair of brackets. Since `test_matrix` is now a tensor, we can do that with the shorthand below. `None` adds a new dimension where `:` selects all the data in a tensor."
   ]
  },
  {
   "cell_type": "code",
   "execution_count": 64,
   "metadata": {
    "colab": {
     "base_uri": "https://localhost:8080/"
    },
    "executionInfo": {
     "elapsed": 6,
     "status": "ok",
     "timestamp": 1734256717644,
     "user": {
      "displayName": "JongHyun Kim",
      "userId": "04750869897114690179"
     },
     "user_tz": -540
    },
    "id": "5_sfjbofM_c_",
    "outputId": "a0eb4131-dbb0-4ab2-eb1b-a8c2f47f3ec2"
   },
   "outputs": [
    {
     "data": {
      "text/plain": [
       "torch.Size([1, 3, 3])"
      ]
     },
     "execution_count": 64,
     "metadata": {},
     "output_type": "execute_result"
    }
   ],
   "source": [
    "####\n",
    "# squeeze(), unsqueeze()\n",
    "# x = torch.zeros(1, 3, 1, 4)  # Shape: (1, 3, 1, 4)\n",
    "# y = torch.squeeze(x, 0)     # Shape: (3, 1, 4)\n",
    "\n",
    "# x = torch.tensor([1, 2, 3])  # Shape: (3,)\n",
    "# y = torch.unsqueeze(x, 0)     # Shape: (1, 3)\n",
    "\n",
    "batch_test_matrix = test_matrix.unsqueeze(0)\n",
    "batch_test_matrix\n",
    "batch_test_matrix.shape"
   ]
  },
  {
   "cell_type": "code",
   "execution_count": null,
   "metadata": {
    "colab": {
     "base_uri": "https://localhost:8080/"
    },
    "executionInfo": {
     "elapsed": 276,
     "status": "ok",
     "timestamp": 1732754238039,
     "user": {
      "displayName": "JongHyun Kim",
      "userId": "04750869897114690179"
     },
     "user_tz": -540
    },
    "id": "ilJUydnUage6",
    "outputId": "bb917cf9-fffe-4d95-ff4d-61b8568893e6"
   },
   "outputs": [
    {
     "data": {
      "text/plain": [
       "tensor([[[1, 2, 3],\n",
       "         [4, 5, 6],\n",
       "         [7, 8, 9]]])"
      ]
     },
     "execution_count": 55,
     "metadata": {},
     "output_type": "execute_result"
    }
   ],
   "source": [
    "batch_test_matrix = test_matrix[None, :]  # 배열의 가장 앞쪽에 새로운 차원 추가, 3차원 배열로 변환\n",
    "batch_test_matrix"
   ]
  },
  {
   "cell_type": "code",
   "execution_count": 65,
   "metadata": {
    "colab": {
     "base_uri": "https://localhost:8080/"
    },
    "executionInfo": {
     "elapsed": 274,
     "status": "ok",
     "timestamp": 1732754241870,
     "user": {
      "displayName": "JongHyun Kim",
      "userId": "04750869897114690179"
     },
     "user_tz": -540
    },
    "id": "3J4BS7V2age6",
    "outputId": "42ab4824-29c3-4cde-fe1e-293082cd1ab8"
   },
   "outputs": [
    {
     "name": "stdout",
     "output_type": "stream",
     "text": [
      "torch.Size([3, 3])\n",
      "torch.Size([1, 3, 3])\n"
     ]
    }
   ],
   "source": [
    "print(test_matrix.size())\n",
    "print(batch_test_matrix.size())"
   ]
  },
  {
   "cell_type": "code",
   "execution_count": 66,
   "metadata": {
    "colab": {
     "base_uri": "https://localhost:8080/"
    },
    "executionInfo": {
     "elapsed": 272,
     "status": "ok",
     "timestamp": 1732754934881,
     "user": {
      "displayName": "JongHyun Kim",
      "userId": "04750869897114690179"
     },
     "user_tz": -540
    },
    "id": "EnlGHt2-age6",
    "outputId": "fff69449-3617-4047-9809-2d4990174225"
   },
   "outputs": [
    {
     "data": {
      "text/plain": [
       "(tensor([[1, 2, 3, 4, 5, 6, 7, 8, 9]]), torch.Size([1, 9]))"
      ]
     },
     "execution_count": 66,
     "metadata": {},
     "output_type": "execute_result"
    }
   ],
   "source": [
    "nn.Flatten()(batch_test_matrix), nn.Flatten()(batch_test_matrix).size()"
   ]
  },
  {
   "cell_type": "markdown",
   "metadata": {
    "id": "CkCPNm64age7"
   },
   "source": [
    "Order matters! This is what happens when we do it the other way:"
   ]
  },
  {
   "cell_type": "code",
   "execution_count": null,
   "metadata": {
    "colab": {
     "base_uri": "https://localhost:8080/"
    },
    "executionInfo": {
     "elapsed": 469,
     "status": "ok",
     "timestamp": 1732289969390,
     "user": {
      "displayName": "JongHyun Kim",
      "userId": "04750869897114690179"
     },
     "user_tz": -540
    },
    "id": "QCtVr5YDage7",
    "outputId": "cadeb704-66fd-43c0-8005-66115c9c1fbe"
   },
   "outputs": [
    {
     "data": {
      "text/plain": [
       "(tensor([[[1, 2, 3]],\n",
       " \n",
       "         [[4, 5, 6]],\n",
       " \n",
       "         [[7, 8, 9]]]),\n",
       " torch.Size([3, 1, 3]))"
      ]
     },
     "execution_count": 74,
     "metadata": {},
     "output_type": "execute_result"
    }
   ],
   "source": [
    "# test_matrix[None, :]: 데이터 전체를 감싸는 새로운 차원을 추가\n",
    "# test_matrix[:, None]: 데이터의 각 열을 새로운 차원으로 만들어 3차원으로 변형\n",
    "# test_matrix[Low, Col]\n",
    "\n",
    "test_matrix[:, None], test_matrix[:, None].size()"
   ]
  },
  {
   "cell_type": "code",
   "execution_count": null,
   "metadata": {
    "colab": {
     "base_uri": "https://localhost:8080/"
    },
    "executionInfo": {
     "elapsed": 480,
     "status": "ok",
     "timestamp": 1732290248444,
     "user": {
      "displayName": "JongHyun Kim",
      "userId": "04750869897114690179"
     },
     "user_tz": -540
    },
    "id": "YwGdhLbEage7",
    "outputId": "8b0379fa-1744-4a7a-de73-f0a6a4233de0"
   },
   "outputs": [
    {
     "data": {
      "text/plain": [
       "tensor([[1, 2, 3],\n",
       "        [4, 5, 6],\n",
       "        [7, 8, 9]])"
      ]
     },
     "execution_count": 75,
     "metadata": {},
     "output_type": "execute_result"
    }
   ],
   "source": [
    "nn.Flatten()(test_matrix[:, None])"
   ]
  },
  {
   "cell_type": "code",
   "execution_count": null,
   "metadata": {
    "colab": {
     "base_uri": "https://localhost:8080/"
    },
    "executionInfo": {
     "elapsed": 537,
     "status": "ok",
     "timestamp": 1732290271647,
     "user": {
      "displayName": "JongHyun Kim",
      "userId": "04750869897114690179"
     },
     "user_tz": -540
    },
    "id": "x5acyJv6i5Dz",
    "outputId": "c04e9953-155d-403e-88f8-81fe1ad78e85"
   },
   "outputs": [
    {
     "data": {
      "text/plain": [
       "torch.Size([3, 3])"
      ]
     },
     "execution_count": 76,
     "metadata": {},
     "output_type": "execute_result"
    }
   ],
   "source": [
    "nn.Flatten()(test_matrix[:, None]).size()"
   ]
  },
  {
   "cell_type": "markdown",
   "metadata": {
    "id": "M4kWBG4Qage7"
   },
   "source": [
    "Now that we've gotten the hang of the `Flatten` layer, let's add it to our list of `layers`."
   ]
  },
  {
   "cell_type": "code",
   "execution_count": 67,
   "metadata": {
    "colab": {
     "base_uri": "https://localhost:8080/"
    },
    "executionInfo": {
     "elapsed": 237,
     "status": "ok",
     "timestamp": 1734257103185,
     "user": {
      "displayName": "JongHyun Kim",
      "userId": "04750869897114690179"
     },
     "user_tz": -540
    },
    "id": "Tim5y-uUage7",
    "outputId": "551bef6d-94bb-4c47-ef95-0604d7eebba9"
   },
   "outputs": [
    {
     "data": {
      "text/plain": [
       "[Flatten(start_dim=1, end_dim=-1)]"
      ]
     },
     "execution_count": 67,
     "metadata": {},
     "output_type": "execute_result"
    }
   ],
   "source": [
    "layers = [\n",
    "    nn.Flatten()\n",
    "]\n",
    "layers"
   ]
  },
  {
   "cell_type": "markdown",
   "metadata": {
    "id": "2wdpPzzpznsx"
   },
   "source": [
    "![flatten.png](data:image/png;base64,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)"
   ]
  },
  {
   "cell_type": "markdown",
   "metadata": {
    "id": "IERzbZuOage7"
   },
   "source": [
    "### 1.5.2 The Input Layer"
   ]
  },
  {
   "cell_type": "markdown",
   "metadata": {
    "id": "dKR1SCnpage7"
   },
   "source": [
    "Our first layer of neurons connects our flattened image to the rest of our model. To do that, we will use a [Linear](https://pytorch.org/docs/stable/generated/torch.nn.Linear.html) layer. This layer will be *densely connected*, meaning that each neuron in it, and its weights, will affect every neuron in the next layer.\n",
    "\n",
    "In order to create these weights, Pytorch needs to know the size of our inputs and how many neurons we want to create.\n",
    "Since we've flattened our images, the size of our inputs is the number of channels, number of pixels vertically, and number of pixels horizontally multiplied together."
   ]
  },
  {
   "cell_type": "code",
   "execution_count": 34,
   "metadata": {
    "id": "EgSPcHf_age8"
   },
   "outputs": [],
   "source": [
    "input_size = 1 * 28 * 28"
   ]
  },
  {
   "cell_type": "markdown",
   "metadata": {
    "id": "OgI9YcgDage8"
   },
   "source": [
    "Choosing the correct number of neurons is what puts the \"science\" in \"data science\" as it is a matter of capturing the statistical complexity of the dataset. For now, we will use `512` neurons. Try playing around with this value later to see how it affects training and to start developing a sense for what this number means.\n",
    "\n",
    "We will learn more about activation functions later, but for now, we will use the [relu](https://pytorch.org/docs/stable/generated/torch.nn.ReLU.html) activation function, which in short, will help our network to learn how to make more sophisticated guesses about data than if it were required to make guesses based on some strictly linear function."
   ]
  },
  {
   "cell_type": "code",
   "execution_count": 70,
   "metadata": {
    "colab": {
     "base_uri": "https://localhost:8080/"
    },
    "executionInfo": {
     "elapsed": 262,
     "status": "ok",
     "timestamp": 1734257157120,
     "user": {
      "displayName": "JongHyun Kim",
      "userId": "04750869897114690179"
     },
     "user_tz": -540
    },
    "id": "i6oc8vxQage8",
    "outputId": "8e826fa4-804f-4195-e145-edf3744f193a"
   },
   "outputs": [
    {
     "data": {
      "text/plain": [
       "[Flatten(start_dim=1, end_dim=-1),\n",
       " Linear(in_features=784, out_features=512, bias=True),\n",
       " ReLU()]"
      ]
     },
     "execution_count": 70,
     "metadata": {},
     "output_type": "execute_result"
    }
   ],
   "source": [
    "layers = [\n",
    "    nn.Flatten(),\n",
    "    nn.Linear(input_size, 512),  # Input\n",
    "    nn.ReLU(),  # Activation for input\n",
    "]\n",
    "layers"
   ]
  },
  {
   "cell_type": "markdown",
   "metadata": {
    "id": "-FAPNjdsage8"
   },
   "source": [
    "### 1.5.3 The Hidden Layer"
   ]
  },
  {
   "cell_type": "markdown",
   "metadata": {
    "id": "nbgxSe-cage8"
   },
   "source": [
    "Now we will add an additional densely connected linear layer. We will cover why adding another set of neurons can help improve learning in the next lesson. Just like how the input layer needed to know the shape of the data that was being passed to it, a hidden layer's [nn.Linear](https://pytorch.org/docs/stable/generated/torch.nn.Linear.html) needs to know the shape of the data being passed to it. Each neuron in the previous layer will compute one number, so the number of inputs into the hidden layer is the same as the number of neurons in the previous later."
   ]
  },
  {
   "cell_type": "code",
   "execution_count": 71,
   "metadata": {
    "colab": {
     "base_uri": "https://localhost:8080/"
    },
    "executionInfo": {
     "elapsed": 243,
     "status": "ok",
     "timestamp": 1734257165375,
     "user": {
      "displayName": "JongHyun Kim",
      "userId": "04750869897114690179"
     },
     "user_tz": -540
    },
    "id": "mXqz9DuJage8",
    "outputId": "cf2d85f4-c267-4b3a-f595-3587bd844509"
   },
   "outputs": [
    {
     "data": {
      "text/plain": [
       "[Flatten(start_dim=1, end_dim=-1),\n",
       " Linear(in_features=784, out_features=512, bias=True),\n",
       " ReLU(),\n",
       " Linear(in_features=512, out_features=512, bias=True),\n",
       " ReLU()]"
      ]
     },
     "execution_count": 71,
     "metadata": {},
     "output_type": "execute_result"
    }
   ],
   "source": [
    "layers = [\n",
    "    nn.Flatten(),\n",
    "    nn.Linear(input_size, 512),  # Input\n",
    "    nn.ReLU(),  # Activation for input\n",
    "    nn.Linear(512, 512),  # Hidden\n",
    "    nn.ReLU()  # Activation for hidden\n",
    "]\n",
    "layers"
   ]
  },
  {
   "cell_type": "markdown",
   "metadata": {
    "id": "KhyVxttyage8"
   },
   "source": [
    "### 1.5.4 The Output Layer"
   ]
  },
  {
   "cell_type": "markdown",
   "metadata": {
    "id": "2Crf_NTiage8"
   },
   "source": [
    "Finally, we will add an output layer. In this case, since the network is to make a guess about a single image belonging to 1 of 10 possible categories, there will be 10 outputs. Each output is assigned a neuron. The larger the value of the output neuron compared to the other neurons, the more the model predicts the input image belongs to the output neuron's assigned class.\n",
    "\n",
    "We will not assign the `relu` function to the output layer. Instead, we will apply a `loss function` covered in the next section."
   ]
  },
  {
   "cell_type": "code",
   "execution_count": 35,
   "metadata": {
    "colab": {
     "base_uri": "https://localhost:8080/"
    },
    "executionInfo": {
     "elapsed": 236,
     "status": "ok",
     "timestamp": 1734257170614,
     "user": {
      "displayName": "JongHyun Kim",
      "userId": "04750869897114690179"
     },
     "user_tz": -540
    },
    "id": "BzBOYbj_age8",
    "outputId": "6fa1c388-f8b9-40b0-ec74-036509b2ae3e"
   },
   "outputs": [
    {
     "data": {
      "text/plain": [
       "[Flatten(start_dim=1, end_dim=-1),\n",
       " Linear(in_features=784, out_features=512, bias=True),\n",
       " ReLU(),\n",
       " Linear(in_features=512, out_features=512, bias=True),\n",
       " ReLU(),\n",
       " Linear(in_features=512, out_features=10, bias=True)]"
      ]
     },
     "execution_count": 35,
     "metadata": {},
     "output_type": "execute_result"
    }
   ],
   "source": [
    "n_classes = 10\n",
    "\n",
    "layers = [\n",
    "    nn.Flatten(),\n",
    "    nn.Linear(input_size, 512),  # Input\n",
    "    nn.ReLU(),  # Activation for input\n",
    "    nn.Linear(512, 512),  # Hidden\n",
    "    nn.ReLU(),  # Activation for hidden\n",
    "    nn.Linear(512, n_classes)  # Output\n",
    "]\n",
    "layers"
   ]
  },
  {
   "cell_type": "markdown",
   "metadata": {
    "id": "F_GUeVG3age9"
   },
   "source": [
    "### 1.5.5 Compiling the Model"
   ]
  },
  {
   "cell_type": "markdown",
   "metadata": {
    "id": "_GhFWL9Kage9"
   },
   "source": [
    "A [Sequential](https://pytorch.org/docs/stable/generated/torch.nn.Sequential.html) model expects a sequence of arguments, not a list, so we can use the [* operator](https://docs.python.org/3/reference/expressions.html#expression-lists) to unpack our list of layers into a sequence. We can print the model to verify these layers loaded correctly."
   ]
  },
  {
   "cell_type": "code",
   "execution_count": 36,
   "metadata": {
    "colab": {
     "base_uri": "https://localhost:8080/"
    },
    "executionInfo": {
     "elapsed": 266,
     "status": "ok",
     "timestamp": 1732755356529,
     "user": {
      "displayName": "JongHyun Kim",
      "userId": "04750869897114690179"
     },
     "user_tz": -540
    },
    "id": "7lmQ-G_FuThy",
    "outputId": "8e62a6b3-09f0-42db-cb1e-d447d2a6cc09"
   },
   "outputs": [
    {
     "data": {
      "text/plain": [
       "Sequential(\n",
       "  (0): Flatten(start_dim=1, end_dim=-1)\n",
       "  (1): Linear(in_features=784, out_features=512, bias=True)\n",
       "  (2): ReLU()\n",
       "  (3): Linear(in_features=512, out_features=512, bias=True)\n",
       "  (4): ReLU()\n",
       "  (5): Linear(in_features=512, out_features=10, bias=True)\n",
       ")"
      ]
     },
     "execution_count": 36,
     "metadata": {},
     "output_type": "execute_result"
    }
   ],
   "source": [
    "model = nn.Sequential(*layers)\n",
    "model"
   ]
  },
  {
   "cell_type": "code",
   "execution_count": null,
   "metadata": {
    "colab": {
     "base_uri": "https://localhost:8080/"
    },
    "executionInfo": {
     "elapsed": 224,
     "status": "ok",
     "timestamp": 1734260546194,
     "user": {
      "displayName": "JongHyun Kim",
      "userId": "04750869897114690179"
     },
     "user_tz": -540
    },
    "id": "vRWrZNQQ44FE",
    "outputId": "6ae4cb84-62ef-4dc3-8f1a-f9fa6a5042ae"
   },
   "outputs": [
    {
     "data": {
      "text/plain": [
       "Sequential(\n",
       "  (0): Flatten(start_dim=1, end_dim=-1)\n",
       "  (1): Linear(in_features=784, out_features=512, bias=True)\n",
       "  (2): ReLU()\n",
       "  (3): Linear(in_features=512, out_features=512, bias=True)\n",
       "  (4): ReLU()\n",
       "  (5): Linear(in_features=512, out_features=10, bias=True)\n",
       ")"
      ]
     },
     "execution_count": 75,
     "metadata": {},
     "output_type": "execute_result"
    }
   ],
   "source": [
    "# model = nn.Sequential(\n",
    "#     nn.Flatten(),\n",
    "#     nn.Linear(input_size, 512),  # Input\n",
    "#     nn.ReLU(),                   # Activation for input\n",
    "#     nn.Linear(512, 512),         # Hidden\n",
    "#     nn.ReLU(),                   # Activation for hidden\n",
    "#     nn.Linear(512, n_classes)    # Output\n",
    "# )\n",
    "# model"
   ]
  },
  {
   "cell_type": "markdown",
   "metadata": {
    "id": "hGSKooDz1DH5"
   },
   "source": [
    "Much like tensors, when the model is first initialized, it will be processed on a CPU. To have it process with a GPU, we can use `to(device)`."
   ]
  },
  {
   "cell_type": "code",
   "execution_count": 37,
   "metadata": {
    "colab": {
     "base_uri": "https://localhost:8080/"
    },
    "executionInfo": {
     "elapsed": 225,
     "status": "ok",
     "timestamp": 1734260555394,
     "user": {
      "displayName": "JongHyun Kim",
      "userId": "04750869897114690179"
     },
     "user_tz": -540
    },
    "id": "ynuW56udz7C1",
    "outputId": "0fc2f413-339b-4d82-db22-6daf71a459ed"
   },
   "outputs": [
    {
     "data": {
      "text/plain": [
       "Sequential(\n",
       "  (0): Flatten(start_dim=1, end_dim=-1)\n",
       "  (1): Linear(in_features=784, out_features=512, bias=True)\n",
       "  (2): ReLU()\n",
       "  (3): Linear(in_features=512, out_features=512, bias=True)\n",
       "  (4): ReLU()\n",
       "  (5): Linear(in_features=512, out_features=10, bias=True)\n",
       ")"
      ]
     },
     "execution_count": 37,
     "metadata": {},
     "output_type": "execute_result"
    }
   ],
   "source": [
    "model.to(device)"
   ]
  },
  {
   "cell_type": "markdown",
   "metadata": {
    "id": "QNZvCVTJage9"
   },
   "source": [
    "To check which device a model is on, we can check which device the model parameters are on. Check out this [stack overflow](https://stackoverflow.com/questions/58926054/how-to-get-the-device-type-of-a-pytorch-module-conveniently) post for more information."
   ]
  },
  {
   "cell_type": "code",
   "execution_count": 77,
   "metadata": {
    "colab": {
     "base_uri": "https://localhost:8080/"
    },
    "executionInfo": {
     "elapsed": 237,
     "status": "ok",
     "timestamp": 1734260559996,
     "user": {
      "displayName": "JongHyun Kim",
      "userId": "04750869897114690179"
     },
     "user_tz": -540
    },
    "id": "VlCPs5KDz9Ii",
    "outputId": "c78fe3d9-a3de-4f3f-89d5-b14ba699176d"
   },
   "outputs": [
    {
     "data": {
      "text/plain": [
       "device(type='cuda', index=0)"
      ]
     },
     "execution_count": 77,
     "metadata": {},
     "output_type": "execute_result"
    }
   ],
   "source": [
    "next(model.parameters()).device"
   ]
  },
  {
   "cell_type": "code",
   "execution_count": 78,
   "metadata": {
    "colab": {
     "base_uri": "https://localhost:8080/"
    },
    "executionInfo": {
     "elapsed": 234,
     "status": "ok",
     "timestamp": 1734260562427,
     "user": {
      "displayName": "JongHyun Kim",
      "userId": "04750869897114690179"
     },
     "user_tz": -540
    },
    "id": "iK5j4aAIRkRf",
    "outputId": "486bacdc-9c3a-4159-df92-57d4d2553c30"
   },
   "outputs": [
    {
     "data": {
      "text/plain": [
       "Parameter containing:\n",
       "tensor([[-0.0270, -0.0316,  0.0206,  ...,  0.0041, -0.0009,  0.0103],\n",
       "        [-0.0313, -0.0088,  0.0017,  ...,  0.0019,  0.0349,  0.0011],\n",
       "        [-0.0332,  0.0142,  0.0271,  ...,  0.0051, -0.0251,  0.0069],\n",
       "        ...,\n",
       "        [-0.0124,  0.0179, -0.0080,  ...,  0.0184,  0.0101, -0.0050],\n",
       "        [-0.0044, -0.0035, -0.0245,  ...,  0.0035,  0.0333,  0.0075],\n",
       "        [ 0.0290, -0.0117, -0.0351,  ..., -0.0301, -0.0057, -0.0161]],\n",
       "       device='cuda:0', requires_grad=True)"
      ]
     },
     "execution_count": 78,
     "metadata": {},
     "output_type": "execute_result"
    }
   ],
   "source": [
    "next(model.parameters())"
   ]
  },
  {
   "cell_type": "code",
   "execution_count": null,
   "metadata": {
    "colab": {
     "base_uri": "https://localhost:8080/"
    },
    "executionInfo": {
     "elapsed": 224,
     "status": "ok",
     "timestamp": 1734260566473,
     "user": {
      "displayName": "JongHyun Kim",
      "userId": "04750869897114690179"
     },
     "user_tz": -540
    },
    "id": "BAZtQ6YR5f00",
    "outputId": "5b5c382e-5afb-4d69-e912-2289145d6afb"
   },
   "outputs": [
    {
     "data": {
      "text/plain": [
       "torch.Size([512, 784])"
      ]
     },
     "execution_count": 42,
     "metadata": {},
     "output_type": "execute_result"
    }
   ],
   "source": [
    "next(model.parameters()).shape"
   ]
  },
  {
   "cell_type": "code",
   "execution_count": null,
   "metadata": {
    "colab": {
     "base_uri": "https://localhost:8080/"
    },
    "executionInfo": {
     "elapsed": 221,
     "status": "ok",
     "timestamp": 1734260569036,
     "user": {
      "displayName": "JongHyun Kim",
      "userId": "04750869897114690179"
     },
     "user_tz": -540
    },
    "id": "3JsX7pdj6Jtj",
    "outputId": "d90593ea-d546-4177-cbcc-029903cb4e46"
   },
   "outputs": [
    {
     "name": "stdout",
     "output_type": "stream",
     "text": [
      "torch.Size([512, 784])\n",
      "torch.Size([512])\n",
      "torch.Size([512, 512])\n",
      "torch.Size([512])\n",
      "torch.Size([10, 512])\n",
      "torch.Size([10])\n"
     ]
    }
   ],
   "source": [
    "for params in model.parameters():\n",
    "    print(params.shape)"
   ]
  },
  {
   "cell_type": "markdown",
   "metadata": {
    "id": "3zSJVm8y6f16"
   },
   "source": [
    "```\n",
    "torch.Size([512, 784])  # size of w1\n",
    "torch.Size([512])       # szie of b1\n",
    "\n",
    "torch.Size([512, 512])  # w2\n",
    "torch.Size([512])       # b2\n",
    "\n",
    "torch.Size([10, 512])   # w3\n",
    "torch.Size([10])        # b3\n",
    "```"
   ]
  },
  {
   "cell_type": "markdown",
   "metadata": {
    "id": "OFgJZ-Nxage-"
   },
   "source": [
    "[PyTorch 2.0](https://pytorch.org/get-started/pytorch-2.0/) introduced the ability to compile a model for faster performance. Learn more about it [here](https://pytorch.org/tutorials/intermediate/torch_compile_tutorial.html)."
   ]
  },
  {
   "cell_type": "code",
   "execution_count": null,
   "metadata": {
    "id": "T5qtmegeage-"
   },
   "outputs": [],
   "source": [
    "# colab에서는 오류 발생\n",
    "# model = torch.compile(model)"
   ]
  },
  {
   "cell_type": "markdown",
   "metadata": {
    "id": "dLpJsQ4Mage-"
   },
   "source": [
    "## 1.6 Training the Model"
   ]
  },
  {
   "cell_type": "markdown",
   "metadata": {
    "id": "ZdVQ5lLPage-"
   },
   "source": [
    "Now that we have prepared training and validation data, and a model, it's time to train our model with our training data, and verify it with its validation data.\n",
    "\n",
    "\"Training a model with data\" is often also called \"fitting a model to data.\" Put another way, it highlights that the shape of the model changes over time to more accurately understand the data that it is being given."
   ]
  },
  {
   "cell_type": "markdown",
   "metadata": {
    "id": "g9LPbKS0age-"
   },
   "source": [
    "### 1.6.1 Loss and Optimization"
   ]
  },
  {
   "cell_type": "markdown",
   "metadata": {
    "id": "_JLzdN2zage-"
   },
   "source": [
    "Just like how teachers grade students, we need to provide the model a function in which to grade its answers. This is called a `loss function`. We will use a type of loss function called [CrossEntropy](https://pytorch.org/docs/stable/generated/torch.nn.CrossEntropyLoss.html) which is designed to grade if a model predicted the correct category from a group of categories."
   ]
  },
  {
   "cell_type": "code",
   "execution_count": 38,
   "metadata": {
    "id": "jG8Oxrz0z_y2"
   },
   "outputs": [],
   "source": [
    "loss_function = nn.CrossEntropyLoss()"
   ]
  },
  {
   "cell_type": "markdown",
   "metadata": {
    "id": "g1TtFhORage-"
   },
   "source": [
    "Next, we select an `optimizer` for our model. If the `loss_function` provides a grade, the optimizer tells the model how to learn from this grade to do better next time."
   ]
  },
  {
   "cell_type": "code",
   "execution_count": 39,
   "metadata": {
    "id": "K3CJRL6-age-"
   },
   "outputs": [],
   "source": [
    "optimizer = Adam(model.parameters())"
   ]
  },
  {
   "cell_type": "markdown",
   "metadata": {
    "id": "pCgIjgRFage_"
   },
   "source": [
    "### 1.6.2 Calculating Accuracy"
   ]
  },
  {
   "cell_type": "markdown",
   "metadata": {
    "id": "HE3MIa1kage_"
   },
   "source": [
    "While the results of the loss function are effective in helping our model learn, the values can be difficult to interpret for humans. This is why data scientists often include other metrics like accuracy.\n",
    "\n",
    "In order to accurately calculate accuracy, we should compare the number of correct classifications compared to the total number of predictions made. Since we're showing data to the model in batches, our accuracy can be calculated along with these batches.\n",
    "\n",
    "First, the total number of predictions is the same size as our dataset. Let's assign the size of our datasets to `N` where `n` is synonymous with the `batch size`."
   ]
  },
  {
   "cell_type": "code",
   "execution_count": 40,
   "metadata": {
    "colab": {
     "base_uri": "https://localhost:8080/"
    },
    "executionInfo": {
     "elapsed": 226,
     "status": "ok",
     "timestamp": 1734260607724,
     "user": {
      "displayName": "JongHyun Kim",
      "userId": "04750869897114690179"
     },
     "user_tz": -540
    },
    "id": "uRyjWRDhage_",
    "outputId": "0557389c-cbed-495e-e487-c0e76b1cbf90"
   },
   "outputs": [
    {
     "name": "stdout",
     "output_type": "stream",
     "text": [
      "60000\n",
      "10000\n"
     ]
    }
   ],
   "source": [
    "# total number of train_set, valide_set\n",
    "train_N = len(train_loader.dataset)\n",
    "valid_N = len(valid_loader.dataset)\n",
    "print(train_N)\n",
    "print(valid_N)"
   ]
  },
  {
   "cell_type": "code",
   "execution_count": 41,
   "metadata": {
    "colab": {
     "base_uri": "https://localhost:8080/"
    },
    "executionInfo": {
     "elapsed": 300,
     "status": "ok",
     "timestamp": 1734262375978,
     "user": {
      "displayName": "JongHyun Kim",
      "userId": "04750869897114690179"
     },
     "user_tz": -540
    },
    "id": "9ubuIj3AC3zK",
    "outputId": "c8e1a372-27f3-4cc0-919b-1149cce5091b"
   },
   "outputs": [
    {
     "data": {
      "text/plain": [
       "1875.0"
      ]
     },
     "execution_count": 41,
     "metadata": {},
     "output_type": "execute_result"
    }
   ],
   "source": [
    "total_train_batch = train_N / batch_size\n",
    "total_train_batch"
   ]
  },
  {
   "cell_type": "code",
   "execution_count": 42,
   "metadata": {
    "colab": {
     "base_uri": "https://localhost:8080/"
    },
    "executionInfo": {
     "elapsed": 239,
     "status": "ok",
     "timestamp": 1734263225112,
     "user": {
      "displayName": "JongHyun Kim",
      "userId": "04750869897114690179"
     },
     "user_tz": -540
    },
    "id": "2PsqdVwVJFG5",
    "outputId": "f3b3d0d5-e001-4ccb-bf48-8a1c1ff1d66c"
   },
   "outputs": [
    {
     "data": {
      "text/plain": [
       "1875"
      ]
     },
     "execution_count": 42,
     "metadata": {},
     "output_type": "execute_result"
    }
   ],
   "source": [
    "total_train_batch = len(train_loader)\n",
    "total_train_batch"
   ]
  },
  {
   "cell_type": "code",
   "execution_count": 43,
   "metadata": {},
   "outputs": [
    {
     "data": {
      "text/plain": [
       "312.5"
      ]
     },
     "execution_count": 43,
     "metadata": {},
     "output_type": "execute_result"
    }
   ],
   "source": [
    "total_valid_batch = valid_N / batch_size\n",
    "total_valid_batch"
   ]
  },
  {
   "cell_type": "markdown",
   "metadata": {
    "id": "ikXXYOmpage_"
   },
   "source": [
    "Next, we'll make a function to calculate the accuracy for each batch. The result is a fraction of the total accuracy, so we can add the accuracy of each batch together to get the total."
   ]
  },
  {
   "cell_type": "code",
   "execution_count": null,
   "metadata": {
    "id": "JGbnnha4age_"
   },
   "outputs": [],
   "source": [
    "# def get_batch_accuracy(output, y, N):\n",
    "#     pred = output.argmax(dim=1, keepdim=True)  # 예측값\n",
    "\n",
    "#     # view_as(pred)는 y 텐서를 pred 텐서와 동일한 모양으로 바꿈, item : Scalar 값 추출\n",
    "#     correct = pred.eq(y.view_as(pred)).sum().item()\n",
    "#     return correct / N"
   ]
  },
  {
   "cell_type": "code",
   "execution_count": 44,
   "metadata": {},
   "outputs": [],
   "source": [
    "def get_batch_accuracy(output, y):\n",
    "    pred = output.argmax(dim=1, keepdim=True)  # 예측값\n",
    "\n",
    "    # view_as(pred)는 y 텐서를 pred 텐서와 동일한 모양으로 바꿈, item -> Scalar 값 추출\n",
    "    correct = pred.eq(y.view_as(pred)).sum().item()\n",
    "    return correct"
   ]
  },
  {
   "cell_type": "code",
   "execution_count": 45,
   "metadata": {},
   "outputs": [
    {
     "data": {
      "text/plain": [
       "torch.Size([3, 3])"
      ]
     },
     "execution_count": 45,
     "metadata": {},
     "output_type": "execute_result"
    }
   ],
   "source": [
    "## get_batch_accuracy(output, y) 보충 설명 ##\n",
    "output = torch.tensor([[0.1, 0.2, 0.7],\n",
    "                       [0.8, 0.1, 0.1],\n",
    "                       [0.3, 0.4, 0.3]])  # [Batch, Classes] : (3 x 3)\n",
    "output.shape"
   ]
  },
  {
   "cell_type": "code",
   "execution_count": 46,
   "metadata": {},
   "outputs": [
    {
     "data": {
      "text/plain": [
       "(tensor([[2],\n",
       "         [0],\n",
       "         [1]]),\n",
       " torch.Size([3, 1]))"
      ]
     },
     "execution_count": 46,
     "metadata": {},
     "output_type": "execute_result"
    }
   ],
   "source": [
    "# keepdim=True : 텐서의 차원이 입력과 동일하게 유지(2차원)\n",
    "pred = output.argmax(dim=1, keepdim=True)\n",
    "pred, pred.shape"
   ]
  },
  {
   "cell_type": "code",
   "execution_count": 47,
   "metadata": {},
   "outputs": [
    {
     "name": "stdout",
     "output_type": "stream",
     "text": [
      "torch.Size([3])\n",
      "torch.Size([3, 1])\n"
     ]
    }
   ],
   "source": [
    "y = torch.tensor([2, 0, 0])  # [Batch]\n",
    "print(y.shape)\n",
    "y = y.view_as(pred)\n",
    "print(y.shape)"
   ]
  },
  {
   "cell_type": "code",
   "execution_count": 48,
   "metadata": {},
   "outputs": [
    {
     "data": {
      "text/plain": [
       "tensor([[2],\n",
       "        [0],\n",
       "        [0]])"
      ]
     },
     "execution_count": 48,
     "metadata": {},
     "output_type": "execute_result"
    }
   ],
   "source": [
    "y"
   ]
  },
  {
   "cell_type": "code",
   "execution_count": 49,
   "metadata": {},
   "outputs": [
    {
     "data": {
      "text/plain": [
       "tensor([[ True],\n",
       "        [ True],\n",
       "        [False]])"
      ]
     },
     "execution_count": 49,
     "metadata": {},
     "output_type": "execute_result"
    }
   ],
   "source": [
    "pred.eq(y.view_as(pred)) # True : 1, False : 0"
   ]
  },
  {
   "cell_type": "code",
   "execution_count": 50,
   "metadata": {},
   "outputs": [
    {
     "data": {
      "text/plain": [
       "2"
      ]
     },
     "execution_count": 50,
     "metadata": {},
     "output_type": "execute_result"
    }
   ],
   "source": [
    "correct = pred.eq(y.view_as(pred)).sum().item()\n",
    "correct"
   ]
  },
  {
   "cell_type": "markdown",
   "metadata": {
    "id": "aiRJ4o6kage_"
   },
   "source": [
    "### 1.6.3 The Train Function"
   ]
  },
  {
   "cell_type": "markdown",
   "metadata": {
    "id": "O5E8ZfGhAMUK"
   },
   "source": []
  },
  {
   "cell_type": "markdown",
   "metadata": {
    "id": "3uPGu5ivage_"
   },
   "source": [
    "Here is where everything comes together. Below is the function we've defined to train our model based on the training data. We will walk through each line of code in more detail later, but take a moment to review how it is structured. Can you recognize the variables we created earlier?"
   ]
  },
  {
   "cell_type": "code",
   "execution_count": 51,
   "metadata": {
    "id": "8iPLK1V53w3R"
   },
   "outputs": [],
   "source": [
    "train_losses = []\n",
    "train_accs = []\n",
    "\n",
    "def train():\n",
    "    loss = 0\n",
    "    accuracy = 0\n",
    "\n",
    "    model.train()\n",
    "    for x, y in train_loader:\n",
    "        x, y = x.to(device), y.to(device)\n",
    "        output = model(x)\n",
    "        # 새로운 배치(batch)로 학습을 진행하기 전에 이전 배치에서 계산된 기울기 값을 0으로 초기화\n",
    "        optimizer.zero_grad()\n",
    "        \n",
    "        # batch_loss는 32개(batch 크기)의 평균 값\n",
    "        batch_loss = loss_function(output, y)\n",
    "        batch_loss.backward()\n",
    "        optimizer.step()\n",
    "\n",
    "        # 배치별 오차를 누적하여 전체 오차를 계산\n",
    "        loss += batch_loss.item() * x.size(0) # x.size(0)-> batch_size\n",
    "        # 배치별 정확도를 누적하여 전체 정확도를 계산\n",
    "        accuracy += get_batch_accuracy(output, y)\n",
    "\n",
    "    # one epoch loss & accuracy\n",
    "    avg_train_loss = loss / train_N    # train_N : 전체 train dataset(60,000)\n",
    "    avg_train_acc = accuracy / train_N\n",
    "    train_losses.append(avg_train_loss)\n",
    "    train_accs.append(avg_train_acc)\n",
    "\n",
    "    print(f'Train - Loss: {avg_train_loss:.4f} Accuracy: {avg_train_acc:.4f}')"
   ]
  },
  {
   "cell_type": "code",
   "execution_count": 52,
   "metadata": {
    "colab": {
     "base_uri": "https://localhost:8080/"
    },
    "executionInfo": {
     "elapsed": 31583,
     "status": "ok",
     "timestamp": 1734263284549,
     "user": {
      "displayName": "JongHyun Kim",
      "userId": "04750869897114690179"
     },
     "user_tz": -540
    },
    "id": "Tp1BUZ8yVr0Z",
    "outputId": "3a6b6bdc-2603-4f77-cd4e-c4db2aa4aab7"
   },
   "outputs": [
    {
     "name": "stdout",
     "output_type": "stream",
     "text": [
      "Train - Loss: 0.2009 Accuracy: 0.9384\n"
     ]
    }
   ],
   "source": [
    "train()"
   ]
  },
  {
   "cell_type": "markdown",
   "metadata": {
    "id": "1WHf4-Xnage_"
   },
   "source": [
    "### 1.6.4 The Validate Function"
   ]
  },
  {
   "cell_type": "markdown",
   "metadata": {
    "id": "C2K424rFagfA"
   },
   "source": [
    "Similarly, this is the code for validating the model with data it did not train on. Can you spot some differences with the `train` function?"
   ]
  },
  {
   "cell_type": "code",
   "execution_count": 55,
   "metadata": {
    "id": "8WlmJPR5yZJ5"
   },
   "outputs": [],
   "source": [
    "valid_losses = []\n",
    "valid_accs = []\n",
    "\n",
    "def validate():\n",
    "    loss = 0\n",
    "    accuracy = 0\n",
    "\n",
    "    model.eval()\n",
    "    with torch.no_grad():\n",
    "        for x, y in valid_loader:\n",
    "            x, y = x.to(device), y.to(device)\n",
    "            output = model(x)\n",
    "\n",
    "            loss += loss_function(output, y).item() * x.size(0)\n",
    "            accuracy += get_batch_accuracy(output, y)\n",
    "    \n",
    "    avg_valid_loss = loss / valid_N\n",
    "    avg_valid_acc = accuracy / valid_N\n",
    "\n",
    "    valid_losses.append(avg_valid_loss)\n",
    "    valid_accs.append(avg_valid_acc)\n",
    "\n",
    "    print(f'Valid - Loss: {avg_valid_loss:.4f} Accuracy: {avg_valid_acc:.4f}')"
   ]
  },
  {
   "cell_type": "code",
   "execution_count": 56,
   "metadata": {
    "colab": {
     "base_uri": "https://localhost:8080/"
    },
    "executionInfo": {
     "elapsed": 2567,
     "status": "ok",
     "timestamp": 1732756693876,
     "user": {
      "displayName": "JongHyun Kim",
      "userId": "04750869897114690179"
     },
     "user_tz": -540
    },
    "id": "3i4ejSZ5WL2P",
    "outputId": "e8994c05-787b-4d02-a4ee-6badc9200084"
   },
   "outputs": [
    {
     "name": "stdout",
     "output_type": "stream",
     "text": [
      "Valid - Loss: 0.1220 Accuracy: 0.9624\n"
     ]
    }
   ],
   "source": [
    "validate()"
   ]
  },
  {
   "cell_type": "markdown",
   "metadata": {
    "id": "SQGtQUkNagfA"
   },
   "source": [
    "### 1.6.5 The Training Loop"
   ]
  },
  {
   "cell_type": "markdown",
   "metadata": {
    "id": "lBQCFy9NagfA"
   },
   "source": [
    "To see how the model is progressing, we will alternated between training and validation. Just like how it might take a student a few times going through their deck of flash cards to learn all the concepts, the model will go through the training data multiple times to get a better and better understanding.\n",
    "\n",
    "An `epoch` is one complete pass through the entire dataset. Let's train and validate the model for 5 `epochs` to see how it learns."
   ]
  },
  {
   "cell_type": "code",
   "execution_count": 57,
   "metadata": {
    "colab": {
     "base_uri": "https://localhost:8080/"
    },
    "executionInfo": {
     "elapsed": 160234,
     "status": "ok",
     "timestamp": 1734261987448,
     "user": {
      "displayName": "JongHyun Kim",
      "userId": "04750869897114690179"
     },
     "user_tz": -540
    },
    "id": "SElV0J_aw-bW",
    "outputId": "4543ede7-b98f-416b-9b76-57ae057ae99d"
   },
   "outputs": [
    {
     "name": "stdout",
     "output_type": "stream",
     "text": [
      "Epoch: 0\n",
      "Train - Loss: 0.0833 Accuracy: 0.9739\n",
      "Valid - Loss: 0.0796 Accuracy: 0.9742\n",
      "Epoch: 1\n",
      "Train - Loss: 0.0587 Accuracy: 0.9813\n",
      "Valid - Loss: 0.0987 Accuracy: 0.9698\n",
      "Epoch: 2\n",
      "Train - Loss: 0.0443 Accuracy: 0.9861\n",
      "Valid - Loss: 0.0804 Accuracy: 0.9782\n",
      "Epoch: 3\n",
      "Train - Loss: 0.0354 Accuracy: 0.9884\n",
      "Valid - Loss: 0.0725 Accuracy: 0.9802\n",
      "Epoch: 4\n",
      "Train - Loss: 0.0308 Accuracy: 0.9902\n",
      "Valid - Loss: 0.0940 Accuracy: 0.9761\n",
      "Epoch: 5\n",
      "Train - Loss: 0.0274 Accuracy: 0.9917\n",
      "Valid - Loss: 0.0743 Accuracy: 0.9814\n",
      "Epoch: 6\n",
      "Train - Loss: 0.0204 Accuracy: 0.9937\n",
      "Valid - Loss: 0.0862 Accuracy: 0.9802\n",
      "Epoch: 7\n",
      "Train - Loss: 0.0183 Accuracy: 0.9943\n",
      "Valid - Loss: 0.1090 Accuracy: 0.9772\n",
      "Epoch: 8\n",
      "Train - Loss: 0.0216 Accuracy: 0.9935\n",
      "Valid - Loss: 0.1154 Accuracy: 0.9777\n",
      "Epoch: 9\n",
      "Train - Loss: 0.0149 Accuracy: 0.9953\n",
      "Valid - Loss: 0.1131 Accuracy: 0.9789\n"
     ]
    }
   ],
   "source": [
    "epochs = 10\n",
    "\n",
    "for epoch in range(epochs):\n",
    "    print('Epoch: {}'.format(epoch))\n",
    "    train()\n",
    "    validate()"
   ]
  },
  {
   "cell_type": "code",
   "execution_count": 58,
   "metadata": {},
   "outputs": [
    {
     "data": {
      "image/png": "[encoded data removed]",
      "text/plain": [
       "<Figure size 1200x600 with 2 Axes>"
      ]
     },
     "metadata": {},
     "output_type": "display_data"
    }
   ],
   "source": [
    "# 데이터 시각화\n",
    "plt.figure(figsize = (12, 6))\n",
    "\n",
    "# Loss Plot\n",
    "plt.subplot(1,2,1)\n",
    "plt.plot(train_losses, label='Train Loss')\n",
    "plt.plot(valid_losses, label='Valid Loss')\n",
    "plt.xlabel('Epoch')\n",
    "plt.ylabel('Loss')\n",
    "plt.title('Loss vs Epochs')\n",
    "plt.legend()\n",
    "\n",
    "# Accuracy Plot\n",
    "plt.subplot(1,2,2)\n",
    "plt.title('Accuracy vs Epochs')\n",
    "plt.plot(train_accs, label='Train Accuracy')\n",
    "plt.plot(valid_accs, label='Valid Accuracy')\n",
    "plt.xlabel('Epoch')\n",
    "plt.ylabel('Loss')\n",
    "plt.title('Accuracy vs Epochs')\n",
    "plt.tight_layout()\n",
    "plt.show()"
   ]
  },
  {
   "cell_type": "markdown",
   "metadata": {
    "id": "wA2HzQlTagfA"
   },
   "source": [
    "We're already close to 100%! Let's see if it's true by testing it on our original sample. We can use our model like a function:"
   ]
  },
  {
   "cell_type": "code",
   "execution_count": 61,
   "metadata": {
    "colab": {
     "base_uri": "https://localhost:8080/"
    },
    "executionInfo": {
     "elapsed": 282,
     "status": "ok",
     "timestamp": 1732756836438,
     "user": {
      "displayName": "JongHyun Kim",
      "userId": "04750869897114690179"
     },
     "user_tz": -540
    },
    "id": "FPKjh3TN1_Sx",
    "outputId": "ba70513b-3c09-4317-b948-92eebfc3a78c"
   },
   "outputs": [
    {
     "data": {
      "text/plain": [
       "tensor([[-55.0809, -17.0560, -42.9228,   6.5889, -65.7916,  30.2396, -41.7122,\n",
       "         -41.4102, -33.7020, -25.3806]], device='cuda:0',\n",
       "       grad_fn=<AddmmBackward0>)"
      ]
     },
     "execution_count": 61,
     "metadata": {},
     "output_type": "execute_result"
    }
   ],
   "source": [
    "prediction = model(x_0_gpu)\n",
    "prediction"
   ]
  },
  {
   "cell_type": "markdown",
   "metadata": {
    "id": "krjNDyJlagfB"
   },
   "source": [
    "There should be ten numbers, each corresponding to a different output neuron. Thanks to how the data is structured, the index of each number matches the corresponding handwritten number. The 0th index is a prediction for a handwritten 0, the 1st index is a prediction for a handwritten 1, and so on.\n",
    "\n",
    "We can use the `argmax` function to find the index of the highest value."
   ]
  },
  {
   "cell_type": "code",
   "execution_count": 62,
   "metadata": {
    "colab": {
     "base_uri": "https://localhost:8080/"
    },
    "executionInfo": {
     "elapsed": 276,
     "status": "ok",
     "timestamp": 1732756847530,
     "user": {
      "displayName": "JongHyun Kim",
      "userId": "04750869897114690179"
     },
     "user_tz": -540
    },
    "id": "XrmW1TrN2OOr",
    "outputId": "aa50f6d7-ae4a-46f3-9548-a087e15a087b"
   },
   "outputs": [
    {
     "data": {
      "text/plain": [
       "tensor([[5]], device='cuda:0')"
      ]
     },
     "execution_count": 62,
     "metadata": {},
     "output_type": "execute_result"
    }
   ],
   "source": [
    "prediction.argmax(dim=1, keepdim=True)"
   ]
  },
  {
   "cell_type": "code",
   "execution_count": 63,
   "metadata": {},
   "outputs": [
    {
     "data": {
      "text/plain": [
       "5"
      ]
     },
     "execution_count": 63,
     "metadata": {},
     "output_type": "execute_result"
    }
   ],
   "source": [
    "p_label = prediction.argmax(dim=1, keepdim=True)  # keepdim=True -> 차원 유지\n",
    "pred_label = p_label.squeeze(0).item()\n",
    "pred_label"
   ]
  },
  {
   "cell_type": "markdown",
   "metadata": {
    "id": "cI34QQbjagfB"
   },
   "source": [
    "Did it get it right?"
   ]
  },
  {
   "cell_type": "code",
   "execution_count": 64,
   "metadata": {
    "colab": {
     "base_uri": "https://localhost:8080/"
    },
    "executionInfo": {
     "elapsed": 266,
     "status": "ok",
     "timestamp": 1732756861220,
     "user": {
      "displayName": "JongHyun Kim",
      "userId": "04750869897114690179"
     },
     "user_tz": -540
    },
    "id": "5NDoSPY7agfB",
    "outputId": "d4ca4f36-ece8-4605-830b-fabae9ea8c88"
   },
   "outputs": [
    {
     "data": {
      "text/plain": [
       "5"
      ]
     },
     "execution_count": 64,
     "metadata": {},
     "output_type": "execute_result"
    }
   ],
   "source": [
    "true_label = y_0\n",
    "true_label"
   ]
  },
  {
   "cell_type": "code",
   "execution_count": 65,
   "metadata": {},
   "outputs": [
    {
     "name": "stdout",
     "output_type": "stream",
     "text": [
      "torch.Size([1, 28, 28])\n",
      "(28, 28)\n"
     ]
    }
   ],
   "source": [
    "# 이미지를 CPU로 옮기고, 차원 변경, numpy로 변환\n",
    "print(x_0_gpu.shape)\n",
    "image = x_0_gpu[0].detach().cpu().squeeze().numpy()\n",
    "print(image.shape)"
   ]
  },
  {
   "cell_type": "code",
   "execution_count": 66,
   "metadata": {},
   "outputs": [
    {
     "data": {
      "image/png": "[encoded data removed]",
      "text/plain": [
       "<Figure size 640x480 with 1 Axes>"
      ]
     },
     "metadata": {},
     "output_type": "display_data"
    }
   ],
   "source": [
    "# 시각화\n",
    "plt.imshow(image, cmap='gray')\n",
    "plt.title(f'Prediction: {pred_label} / Label: {true_label}')\n",
    "plt.axis('off')\n",
    "plt.show()"
   ]
  },
  {
   "cell_type": "markdown",
   "metadata": {
    "id": "I8O7pADY2zgL"
   },
   "source": [
    "## 1.7 Summary"
   ]
  },
  {
   "cell_type": "markdown",
   "metadata": {
    "id": "p-YXMUiN2zgL"
   },
   "source": [
    "The model did quite well! The accuracy quickly reached close to 100%, as did the validation accuracy. We now have a model that can be used to accurately detect and classify hand-written images.\n",
    "\n",
    "The next step would be to use this model to classify new not-yet-seen handwritten images. This is called [inference](https://blogs.nvidia.com/blog/2016/08/22/difference-deep-learning-training-inference-ai/). We'll explore the process of inference in a later exercise."
   ]
  },
  {
   "cell_type": "markdown",
   "metadata": {
    "id": "Yu5NNukp2zgL"
   },
   "source": [
    "It's worth taking a moment to appreciate what we've done here. Historically, the expert systems that were built to do this kind of task were extremely complicated, and people spent their careers building them (check out the references on the [official MNIST page](http://yann.lecun.com/exdb/mnist/) and the years milestones were reached).\n",
    "\n",
    "MNIST is not only useful for its historical influence on Computer Vision, but it's also a great [benchmark](http://www.cs.toronto.edu/~serailhydra/publications/tbd-iiswc18.pdf) and debugging tool. Having trouble getting a fancy new machine learning architecture working? Check it against MNIST. If it can't learn on this dataset, chances are it won't learn on more complicated images and datasets."
   ]
  },
  {
   "cell_type": "markdown",
   "metadata": {
    "id": "lV4QiOtg2zgL"
   },
   "source": [
    "### 1.7.1 Clear the Memory"
   ]
  },
  {
   "cell_type": "markdown",
   "metadata": {
    "id": "o3iQrnws2zgL"
   },
   "source": [
    "Before moving on, please execute the following cell to clear up the GPU memory. This is required to move on to the next notebook."
   ]
  },
  {
   "cell_type": "code",
   "execution_count": null,
   "metadata": {
    "id": "JCvpuSx-2zgM"
   },
   "outputs": [],
   "source": [
    "import IPython\n",
    "app = IPython.Application.instance()\n",
    "app.kernel.do_shutdown(True)"
   ]
  },
  {
   "cell_type": "markdown",
   "metadata": {
    "id": "a7ybpLwy2zgM"
   },
   "source": [
    "### 1.7.2 Next"
   ]
  },
  {
   "cell_type": "markdown",
   "metadata": {
    "id": "_oCUyjG72zgM"
   },
   "source": [
    "In this section you learned how to build and train a simple neural network for image classification. In the next section, you will be asked to build your own neural network and perform data preparation to solve a different image classification problem."
   ]
  },
  {
   "cell_type": "markdown",
   "metadata": {
    "id": "zqcwglnk2zgM"
   },
   "source": [
    "<center><a href=\"https://www.nvidia.com/dli\"> <img src=\"images/DLI_Header.png\" alt=\"Header\" style=\"width: 400px;\"/> </a></center>"
   ]
  }
 ],
 "metadata": {
  "accelerator": "GPU",
  "colab": {
   "gpuType": "T4",
   "provenance": []
  },
  "kernelspec": {
   "display_name": "torch_env_113",
   "language": "python",
   "name": "python3"
  },
  "language_info": {
   "codemirror_mode": {
    "name": "ipython",
    "version": 3
   },
   "file_extension": ".py",
   "mimetype": "text/x-python",
   "name": "python",
   "nbconvert_exporter": "python",
   "pygments_lexer": "ipython3",
   "version": "3.10.16"
  }
 },
 "nbformat": 4,
 "nbformat_minor": 0
}
