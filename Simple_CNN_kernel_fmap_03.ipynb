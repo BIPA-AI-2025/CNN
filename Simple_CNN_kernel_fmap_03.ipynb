{
 "cells": [
  {
   "cell_type": "markdown",
   "id": "e2208326",
   "metadata": {},
   "source": [
    "### conv1 → pool → conv2 → pool → conv3 → pool\n",
    "\n",
    "### → flatten → linear(512) → ReLU → linear(512) → ReLU → linear(10)"
   ]
  },
  {
   "cell_type": "code",
   "execution_count": 5,
   "id": "90b9dbdc",
   "metadata": {},
   "outputs": [],
   "source": [
    "import torch\n",
    "import torch.nn as nn\n",
    "import torch.nn.functional as F\n",
    "import matplotlib.pyplot as plt\n",
    "from torchvision import datasets, transforms\n",
    "from torch.utils.data import DataLoader\n",
    "from tqdm import tqdm"
   ]
  },
  {
   "cell_type": "code",
   "execution_count": 6,
   "id": "d977d5f5",
   "metadata": {},
   "outputs": [],
   "source": [
    "class CNNWithLinear512(nn.Module):\n",
    "    def __init__(self):\n",
    "        super(CNNWithLinear512, self).__init__()\n",
    "        # Convolution layers\n",
    "        self.conv1 = nn.Conv2d(1, 2, kernel_size=3, padding=1)   # (2, 28, 28)\n",
    "        self.pool1 = nn.MaxPool2d(2, 2)                          # (2, 14, 14)\n",
    "\n",
    "        self.conv2 = nn.Conv2d(2, 4, kernel_size=3, padding=1)   # (4, 14, 14)\n",
    "        self.pool2 = nn.MaxPool2d(2, 2)                          # (4, 7, 7)\n",
    "\n",
    "        self.conv3 = nn.Conv2d(4, 2, kernel_size=3, padding=1)   # (2, 7, 7)\n",
    "        self.pool3 = nn.MaxPool2d(1, 1)                          # (2, 7, 7)\n",
    "\n",
    "        # Fully connected layers\n",
    "        self.fc1 = nn.Linear(2 * 7 * 7, 512)\n",
    "        self.fc2 = nn.Linear(512, 512)\n",
    "        self.fc3 = nn.Linear(512, 10)\n",
    "\n",
    "    def forward(self, x):\n",
    "        # Convolution + Activation + Pooling\n",
    "        self.feature1 = F.relu(self.conv1(x))\n",
    "        x = self.pool1(self.feature1)\n",
    "\n",
    "        self.feature2 = F.relu(self.conv2(x))\n",
    "        x = self.pool2(self.feature2)\n",
    "\n",
    "        self.feature3 = F.relu(self.conv3(x))\n",
    "        x = self.pool3(self.feature3)\n",
    "\n",
    "        # Flatten\n",
    "        x = x.view(x.size(0), -1)\n",
    "\n",
    "        # Fully connected layers\n",
    "        x = F.relu(self.fc1(x))\n",
    "        x = F.relu(self.fc2(x))\n",
    "        x = self.fc3(x)  # 10-class output (logits)\n",
    "        return x\n"
   ]
  },
  {
   "cell_type": "code",
   "execution_count": 8,
   "id": "2779955b",
   "metadata": {},
   "outputs": [],
   "source": [
    "# 시각화 함수\n",
    "def plot_feature_maps(feature_maps, title_prefix):\n",
    "    num_channels = feature_maps.shape[1]\n",
    "    plt.figure(figsize=(15, 3))\n",
    "    for i in range(num_channels):\n",
    "        plt.subplot(1, num_channels, i + 1)\n",
    "        plt.imshow(feature_maps[0, i].detach().cpu().numpy(), cmap='gray')\n",
    "        plt.title(f\"{title_prefix} #{i+1}\")\n",
    "        plt.axis('off')\n",
    "    plt.tight_layout()\n",
    "    plt.show()"
   ]
  },
  {
   "cell_type": "code",
   "execution_count": 9,
   "id": "3cfb490c",
   "metadata": {},
   "outputs": [],
   "source": [
    "# ✅ 3. 데이터 로더\n",
    "transform = transforms.ToTensor()\n",
    "train_data = datasets.MNIST(root='./data', train=True, download=True, transform=transform)\n",
    "test_data = datasets.MNIST(root='./data', train=False, download=True, transform=transform)\n",
    "train_loader = DataLoader(train_data, batch_size=64, shuffle=True)\n",
    "test_loader = DataLoader(test_data, batch_size=1000, shuffle=False)"
   ]
  },
  {
   "cell_type": "code",
   "execution_count": 10,
   "id": "9d8839d1",
   "metadata": {},
   "outputs": [],
   "source": [
    "# ✅ 4. 학습 설정\n",
    "device = torch.device(\"cuda\" if torch.cuda.is_available() else \"cpu\")\n",
    "model = CNNWithLinear512().to(device)\n",
    "criterion = nn.CrossEntropyLoss()\n",
    "optimizer = torch.optim.Adam(model.parameters(), lr=0.001)"
   ]
  },
  {
   "cell_type": "code",
   "execution_count": 11,
   "id": "7aa445da",
   "metadata": {},
   "outputs": [
    {
     "name": "stderr",
     "output_type": "stream",
     "text": [
      "Epoch 1/5: 100%|██████████| 938/938 [00:14<00:00, 63.07it/s]\n"
     ]
    },
    {
     "name": "stdout",
     "output_type": "stream",
     "text": [
      "[Epoch 1] Loss: 0.4831 | Acc: 83.13%\n"
     ]
    },
    {
     "name": "stderr",
     "output_type": "stream",
     "text": [
      "Epoch 2/5: 100%|██████████| 938/938 [00:11<00:00, 84.39it/s]\n"
     ]
    },
    {
     "name": "stdout",
     "output_type": "stream",
     "text": [
      "[Epoch 2] Loss: 0.1134 | Acc: 96.41%\n"
     ]
    },
    {
     "name": "stderr",
     "output_type": "stream",
     "text": [
      "Epoch 3/5: 100%|██████████| 938/938 [00:11<00:00, 84.57it/s]\n"
     ]
    },
    {
     "name": "stdout",
     "output_type": "stream",
     "text": [
      "[Epoch 3] Loss: 0.0816 | Acc: 97.38%\n"
     ]
    },
    {
     "name": "stderr",
     "output_type": "stream",
     "text": [
      "Epoch 4/5: 100%|██████████| 938/938 [00:11<00:00, 85.09it/s]\n"
     ]
    },
    {
     "name": "stdout",
     "output_type": "stream",
     "text": [
      "[Epoch 4] Loss: 0.0668 | Acc: 97.90%\n"
     ]
    },
    {
     "name": "stderr",
     "output_type": "stream",
     "text": [
      "Epoch 5/5: 100%|██████████| 938/938 [00:11<00:00, 84.27it/s]"
     ]
    },
    {
     "name": "stdout",
     "output_type": "stream",
     "text": [
      "[Epoch 5] Loss: 0.0548 | Acc: 98.22%\n"
     ]
    },
    {
     "name": "stderr",
     "output_type": "stream",
     "text": [
      "\n"
     ]
    }
   ],
   "source": [
    "# ✅ 5. 학습 루프\n",
    "num_epochs = 5\n",
    "for epoch in range(num_epochs):\n",
    "    model.train()\n",
    "    running_loss = 0\n",
    "    correct = 0\n",
    "    total = 0\n",
    "    for images, labels in tqdm(train_loader, desc=f\"Epoch {epoch+1}/{num_epochs}\"):\n",
    "        images, labels = images.to(device), labels.to(device)\n",
    "        optimizer.zero_grad()\n",
    "        outputs = model(images)\n",
    "\n",
    "        loss = criterion(outputs, labels)\n",
    "        loss.backward()\n",
    "        optimizer.step()\n",
    "\n",
    "        running_loss += loss.item()\n",
    "        _, predicted = outputs.max(1)\n",
    "        total += labels.size(0)\n",
    "        correct += predicted.eq(labels).sum().item()\n",
    "\n",
    "    print(f\"[Epoch {epoch+1}] Loss: {running_loss / len(train_loader):.4f} | Acc: {100 * correct / total:.2f}%\")"
   ]
  },
  {
   "cell_type": "code",
   "execution_count": 12,
   "id": "4b30cd8f",
   "metadata": {},
   "outputs": [
    {
     "name": "stdout",
     "output_type": "stream",
     "text": [
      "[Test Accuracy] 97.61%\n"
     ]
    }
   ],
   "source": [
    "# 평가 루프\n",
    "model.eval()\n",
    "test_correct = 0\n",
    "test_total = 0\n",
    "with torch.no_grad():\n",
    "    for images, labels in test_loader:\n",
    "        images, labels = images.to(device), labels.to(device)\n",
    "        outputs = model(images)\n",
    "        _, predicted = outputs.max(1)\n",
    "        test_total += labels.size(0)\n",
    "        test_correct += predicted.eq(labels).sum().item()\n",
    "\n",
    "print(f\"[Test Accuracy] {100 * test_correct / test_total:.2f}%\")"
   ]
  },
  {
   "cell_type": "code",
   "execution_count": 13,
   "id": "f127536f",
   "metadata": {},
   "outputs": [
    {
     "data": {
      "image/png": "[encoded data removed]",
      "text/plain": [
       "<Figure size 1500x300 with 2 Axes>"
      ]
     },
     "metadata": {},
     "output_type": "display_data"
    },
    {
     "data": {
      "image/png": "[encoded data removed]",
      "text/plain": [
       "<Figure size 1500x300 with 4 Axes>"
      ]
     },
     "metadata": {},
     "output_type": "display_data"
    },
    {
     "data": {
      "image/png": "[encoded data removed]",
      "text/plain": [
       "<Figure size 1500x300 with 2 Axes>"
      ]
     },
     "metadata": {},
     "output_type": "display_data"
    }
   ],
   "source": [
    "# Feature Map 시각화 (테스트 이미지 하나)\n",
    "sample_img, _ = test_data[0]\n",
    "model.eval()\n",
    "with torch.no_grad():\n",
    "    _ = model(sample_img.unsqueeze(0).to(device))\n",
    "\n",
    "plot_feature_maps(model.feature1, \"Conv1 Feature Map\")\n",
    "plot_feature_maps(model.feature2, \"Conv2 Feature Map\")\n",
    "plot_feature_maps(model.feature3, \"Conv3 Feature Map\")"
   ]
  },
  {
   "cell_type": "code",
   "execution_count": 23,
   "id": "d5b99596",
   "metadata": {},
   "outputs": [
    {
     "data": {
      "image/png": "[encoded data removed]",
      "text/plain": [
       "<Figure size 640x480 with 1 Axes>"
      ]
     },
     "metadata": {},
     "output_type": "display_data"
    }
   ],
   "source": [
    "# 예측 코드 (예: 테스트셋 첫 번째 이미지)\n",
    "# 테스트셋에서 이미지 1장 가져오기\n",
    "sample_img, sample_label = test_data[0]\n",
    "plt.imshow(sample_img.squeeze(), cmap='gray')\n",
    "plt.title(f\"Label {sample_label}\")\n",
    "plt.axis('off')\n",
    "plt.show()\n"
   ]
  },
  {
   "cell_type": "code",
   "execution_count": 15,
   "id": "af4f14e9",
   "metadata": {},
   "outputs": [],
   "source": [
    "# 모델을 사용한 예측\n",
    "model.eval()\n",
    "with torch.no_grad():\n",
    "    sample_input = sample_img.unsqueeze(0).to(device)  # 배치 차원 추가\n",
    "    output = model(sample_input)\n",
    "    pred_label = output.argmax(dim=1).item()"
   ]
  },
  {
   "cell_type": "code",
   "execution_count": 16,
   "id": "db31d94c",
   "metadata": {},
   "outputs": [
    {
     "name": "stdout",
     "output_type": "stream",
     "text": [
      "실제 정답 라벨: 7\n",
      "모델 예측 라벨: 7\n"
     ]
    }
   ],
   "source": [
    "# 결과 출력\n",
    "print(f\"실제 정답 라벨: {sample_label}\")\n",
    "print(f\"모델 예측 라벨: {pred_label}\")"
   ]
  },
  {
   "cell_type": "code",
   "execution_count": 24,
   "id": "f8c14fda",
   "metadata": {},
   "outputs": [
    {
     "data": {
      "image/png": "[encoded data removed]",
      "text/plain": [
       "<Figure size 640x480 with 1 Axes>"
      ]
     },
     "metadata": {},
     "output_type": "display_data"
    }
   ],
   "source": [
    "# 이미지 시각화\n",
    "plt.imshow(sample_img.squeeze(), cmap='gray')\n",
    "plt.title(f\"Predicted: {pred_label} | Label: {sample_label}\")\n",
    "plt.axis('off')\n",
    "plt.show()"
   ]
  },
  {
   "cell_type": "code",
   "execution_count": null,
   "id": "45bd2760",
   "metadata": {},
   "outputs": [],
   "source": []
  }
 ],
 "metadata": {
  "kernelspec": {
   "display_name": "Python (torch_env)",
   "language": "python",
   "name": "torch_env"
  },
  "language_info": {
   "codemirror_mode": {
    "name": "ipython",
    "version": 3
   },
   "file_extension": ".py",
   "mimetype": "text/x-python",
   "name": "python",
   "nbconvert_exporter": "python",
   "pygments_lexer": "ipython3",
   "version": "3.12.3"
  }
 },
 "nbformat": 4,
 "nbformat_minor": 5
}
