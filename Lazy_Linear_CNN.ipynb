{
 "cells": [
  {
   "cell_type": "code",
   "execution_count": 1,
   "id": "d0b65ce3",
   "metadata": {},
   "outputs": [],
   "source": [
    "import torch\n",
    "import torch.nn as nn"
   ]
  },
  {
   "cell_type": "code",
   "execution_count": null,
   "id": "0214ee1a",
   "metadata": {},
   "outputs": [],
   "source": [
    "class SimpleCNN(nn.Module):\n",
    "    def __init__(self):\n",
    "        super().__init__()\n",
    "        self.features = nn.Sequential(\n",
    "            nn.Conv2d(1, 32, 3, padding=1),   # (1, 28, 28) → (32, 28, 28)\n",
    "            nn.ReLU(),\n",
    "            nn.MaxPool2d(2),                  # → (32, 14, 14)\n",
    "            nn.Conv2d(32, 64, 3, padding=1),  # → (64, 14, 14)\n",
    "            nn.ReLU(),\n",
    "            nn.MaxPool2d(2)                   # → (64, 7, 7)\n",
    "        )\n",
    "        \n",
    "        self.flatten = nn.Flatten()\n",
    "        self.classifier = nn.Sequential(\n",
    "            nn.LazyLinear(128),  # 자동으로 in_features 계산\n",
    "            nn.ReLU(),\n",
    "            nn.Linear(128, 10)   # MNIST: 10 classes\n",
    "        )\n",
    "\n",
    "    def forward(self, x):\n",
    "        x = self.features(x)\n",
    "        print(\"Before Flatten:\", x.shape)  # ← 여기서 feature map shape 출력\n",
    "        \n",
    "        x = self.flatten(x)\n",
    "        print(\"After Flatten:\", x.shape)   # ← Flatten 후 shape 출력\n",
    "        \n",
    "        x = self.classifier(x)\n",
    "        return x"
   ]
  },
  {
   "cell_type": "code",
   "execution_count": 5,
   "id": "bbc85587",
   "metadata": {},
   "outputs": [
    {
     "name": "stdout",
     "output_type": "stream",
     "text": [
      "Before Flatten: torch.Size([1, 64, 7, 7])\n",
      "After Flatten: torch.Size([1, 3136])\n",
      "Output shape: torch.Size([1, 10])\n"
     ]
    }
   ],
   "source": [
    "# 테스트\n",
    "model = SimpleCNN()\n",
    "dummy_input = torch.randn(1, 1, 28, 28)\n",
    "output = model(dummy_input)\n",
    "print(\"Output shape:\", output.shape)  # torch.Size([1, 10])"
   ]
  }
 ],
 "metadata": {
  "kernelspec": {
   "display_name": "torch_env_113",
   "language": "python",
   "name": "python3"
  },
  "language_info": {
   "codemirror_mode": {
    "name": "ipython",
    "version": 3
   },
   "file_extension": ".py",
   "mimetype": "text/x-python",
   "name": "python",
   "nbconvert_exporter": "python",
   "pygments_lexer": "ipython3",
   "version": "3.10.16"
  }
 },
 "nbformat": 4,
 "nbformat_minor": 5
}
